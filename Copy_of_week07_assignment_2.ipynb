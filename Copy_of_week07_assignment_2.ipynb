{
  "cells": [
    {
      "cell_type": "markdown",
      "metadata": {
        "id": "view-in-github",
        "colab_type": "text"
      },
      "source": [
        "<a href=\"https://colab.research.google.com/github/Rishitha-Hds98/hds5210-2023/blob/main/Copy_of_week07_assignment_2.ipynb\" target=\"_parent\"><img src=\"https://colab.research.google.com/assets/colab-badge.svg\" alt=\"Open In Colab\"/></a>"
      ]
    },
    {
      "cell_type": "markdown",
      "metadata": {
        "id": "MEyC8D87Dp7r"
      },
      "source": [
        "# Week 7 Assignment\n",
        "\n",
        "We've been working with different types of data structures in Python (dictionary, list, etc), how those are represented in JSON documents, and how to write code to access specific data elements. In this week's assignment, you will need to create your own JSON document to store information about yourself and the grades you've received from week 1 to week 4 and the week 6 quiz.  That is, everything you should have received a grade for.  Then you'll need to show me you know how to navigate the JSON in that file.\n",
        "\n",
        "Different from what we've done in the past, you do not have to write any functions or include any docstrings.  Just create some JSON and write some code.\n",
        "\n",
        "---"
      ]
    },
    {
      "cell_type": "markdown",
      "metadata": {
        "id": "6Kt3gExuDp7s"
      },
      "source": [
        "## 7.1 Create a JSON string\n",
        "\n",
        "Create a JSON string that contains your name, email, year you were born, all of the grades you've received back so far, and a comment about what you thought was most challenging on each of those assignments.  This can be any structure you choose, but make sure it uses a dictionary and a list, and has at least two levels of hierarchy.  That is, it can't just be one big long list."
      ]
    },
    {
      "cell_type": "markdown",
      "metadata": {
        "id": "xSs8MvcrDp7s"
      },
      "source": [
        "First, explain how your data structure is going to look..."
      ]
    },
    {
      "cell_type": "markdown",
      "metadata": {
        "id": "2EuCwUWRDp7s"
      },
      "source": [
        "* The JSON data structure contains information on my name, email address, and birth year. The JSON data also includes a summary of grades, comments, and difficulties encountered throughout the course of various weeks."
      ]
    },
    {
      "cell_type": "markdown",
      "metadata": {
        "id": "tcZqZ6ibDp7s"
      },
      "source": [
        "Then put the actual JSON you've created inside the multiline string below..."
      ]
    },
    {
      "cell_type": "code",
      "execution_count": null,
      "metadata": {
        "id": "Kykl4EP_Dp7s"
      },
      "outputs": [],
      "source": [
        "hds5210 = \"\"\"\n",
        "{\n",
        "    \"name\": \"Rishithareddy\",\n",
        "    \"email\": \"rishithareddy.puchakayala@slu.edu\",\n",
        "    \"yob\": \"1998\",\n",
        "    \"grades_and_comments\": [\n",
        "\n",
        "        {\n",
        "            \"week\": \"2\",\n",
        "            \"type\": \"assignment\",\n",
        "            \"grade\": \"9\",\n",
        "            \"comment\": \"This week had introductory lessons and calculating the BMI using Feet,Inches and pounds was a bit difficult\"\n",
        "        },\n",
        "        {\n",
        "            \"week\": \"3\",\n",
        "            \"type\": \"assignment\",\n",
        "            \"grade\": \"10\",\n",
        "            \"comment\": \"This week had lessons on flow of code execution through things like loops (for, while, range) and conditions (if) and the assignment was bit challenging than the previous assignment\"\n",
        "        },\n",
        "        {\n",
        "            \"week\": \"4\",\n",
        "            \"type\": \"assignment\",\n",
        "            \"grade\": \"9\",\n",
        "            \"comment\": \"This week had lessons on tuples, lists, dictionaries but I got the hang of the concepts and scored good marks\"\n",
        "        },\n",
        "        {\n",
        "            \"week\": \"6\",\n",
        "            \"type\": \"quiz\",\n",
        "            \"grade\": \"5\",\n",
        "            \"comment\": \"Using docstrings with parameter types, function description in a code within in a limited time was very difficult\"\n",
        "        }\n",
        "    ]\n",
        "}\n",
        "'''\n",
        "\n",
        "\"\"\""
      ]
    },
    {
      "cell_type": "markdown",
      "metadata": {
        "id": "n-BoTarlDp7t"
      },
      "source": [
        "## 7.2 Do something with your JSON\n",
        "\n",
        "Now use Python code to do something with the Json above.  Turn it into English text, but make sure that you use at least one loop to access some dict or list content of your JSON.  Below, I've provided some basic code to read in the string above as JSON and return a Python object.  Your job is to work with that data structure and print out the important information like your name, email, and how you did on each assignment."
      ]
    },
    {
      "cell_type": "code",
      "execution_count": null,
      "metadata": {
        "colab": {
          "base_uri": "https://localhost:8080/"
        },
        "id": "a0_baTWeDp7t",
        "outputId": "bc8d7557-36f3-47eb-b732-12b1cf68f92e"
      },
      "outputs": [
        {
          "output_type": "stream",
          "name": "stdout",
          "text": [
            "Hello, my name is Rishithareddy.\n",
            "I was born in the year 1998.\n",
            "Throughout the course, I have been actively engaged in various weekly assignments, earning grades such as 9 in Week 2, where This week had introductory lessons and calculating the BMI using Feet, Inches, and pounds was a bit difficult.\n",
            "Week 3 was enjoyable, and I earned a grade of 10, as This week had lessons on the flow of code execution through things like loops (for, while, range) and conditions (if) but I got the hang of the concepts and scored good marks..\n",
            "However, Week 4 proved more complex, resulting in a grade of 9, as This week had lessons on tuples, lists, dictionaries and the assignment was a bit challenging than the previous assignment..\n",
            "In Week 6,I faced difficulty grasping some concepts,leading to a grade of 5 and Using docstrings in a code within a limited time was very hard..\n",
            "\n"
          ]
        }
      ],
      "source": [
        "import json\n",
        "\n",
        "# Assuming hds5210 is a JSON string and contains information about the person.\n",
        "hds5210 = \"\"\"\n",
        "{\n",
        "    \"name\": \"Rishithareddy\",\n",
        "    \"email\": \"rishithareddy.puchakayala@slu.edu\",\n",
        "    \"yob\": \"1998\",\n",
        "    \"grades_and_comments\": {\n",
        "        \"week2\": {\"grade\": 9, \"comment\": \"This week had introductory lessons and calculating the BMI using Feet, Inches, and pounds was a bit difficult\"},\n",
        "        \"week3\": {\"grade\": 10, \"comment\": \"This week had lessons on the flow of code execution through things like loops (for, while, range) and conditions (if) but I got the hang of the concepts and scored good marks.\"},\n",
        "        \"week4\": {\"grade\": 9, \"comment\": \"This week had lessons on tuples, lists, dictionaries and the assignment was a bit challenging than the previous assignment.\"},\n",
        "        \"week6\": {\"grade\": 5, \"comment\": \"Using docstrings in a code within a limited time was very hard.\"}\n",
        "    }\n",
        "}\n",
        "\"\"\"\n",
        "\n",
        "info = json.loads(hds5210)\n",
        "\n",
        "# Generate a paragraph combining personal and academic information.\n",
        "paragraph = (\n",
        "    f\"Hello, my name is {info['name']}.\\n\"\n",
        "    f\"I was born in the year {info['yob']}.\\n\"\n",
        "    f\"Throughout the course, I have been actively engaged in various weekly assignments, earning grades such as {info['grades_and_comments']['week2']['grade']} in Week 2, where {info['grades_and_comments']['week2']['comment']}.\\n\"\n",
        "    f\"Week 3 was enjoyable, and I earned a grade of {info['grades_and_comments']['week3']['grade']}, as {info['grades_and_comments']['week3']['comment']}.\\n\"\n",
        "    f\"However, Week 4 proved more complex, resulting in a grade of {info['grades_and_comments']['week4']['grade']}, as {info['grades_and_comments']['week4']['comment']}.\\n\"\n",
        "    f\"In Week 6,I faced difficulty grasping some concepts,leading to a grade of {info['grades_and_comments']['week6']['grade']} and {info['grades_and_comments']['week6']['comment']}.\\n\"\n",
        ")\n",
        "\n",
        "# Print the paragraph.\n",
        "print(paragraph)\n"
      ]
    },
    {
      "cell_type": "markdown",
      "metadata": {
        "id": "s-oGApVRDp7t"
      },
      "source": [
        "## 7.3 Reflect\n",
        "\n",
        "Write a paragraph on any reflections you have. Was this hard? Easy?  What parts were most challenging or easiest? What did you like or dislike about the assignment?  Share whatever important thoughts you have abou this assignment."
      ]
    },
    {
      "cell_type": "markdown",
      "metadata": {
        "id": "UcDO-3VyDp7t"
      },
      "source": [
        "* Hello Proffesor,\n",
        "I felt the week 7 assignment was a bit tough because my primary challenge revolved around creating a json string on my own and Working with JSON data for producing structured text output is practical and beneficial in many applications, so I loved that.In conclusion, this assignment was doable and served as a useful exercise for processing JSON data and creating organized output."
      ]
    },
    {
      "cell_type": "markdown",
      "metadata": {
        "id": "I2zJmMvtDp7t"
      },
      "source": [
        "---\n",
        "\n",
        "# Example\n",
        "\n",
        "Below is an example of something similar, but this uses information my and my friend's kids instead of grades."
      ]
    },
    {
      "cell_type": "code",
      "execution_count": null,
      "metadata": {
        "id": "9wOhEaIXDp7t",
        "outputId": "0c9d7f24-5140-45da-a6c0-75f02df69215"
      },
      "outputs": [
        {
          "name": "stdout",
          "output_type": "stream",
          "text": [
            "Hi, my name is Paul. I've got 3 kids. Their names are Ellie, Ada, Teddy.\n",
            "My friend, Anny has 1 kids. That's fewer than me. Their names are 1\n"
          ]
        }
      ],
      "source": [
        "hds5210 = \"\"\"\n",
        "{\n",
        "    \"me\": {\n",
        "        \"name\": \"Paul\",\n",
        "        \"kids\": [\"Ellie\", \"Ada\", \"Teddy\"]\n",
        "    },\n",
        "    \"friend\": {\n",
        "        \"name\": \"Anny\",\n",
        "        \"kids\": [\"Abby\"]\n",
        "    }\n",
        "}\n",
        "\"\"\"\n",
        "\n",
        "import json\n",
        "\n",
        "info = json.loads(hds5210)\n",
        "\n",
        "me = info[\"me\"][\"name\"]\n",
        "my_kids_count = len(info[\"me\"][\"kids\"])\n",
        "kids_list = \", \".join(info[\"me\"][\"kids\"])\n",
        "friend = info[\"friend\"][\"name\"]\n",
        "friends_kid_count = len(info[\"friend\"][\"kids\"])\n",
        "friend_kids = \", \".join(info[\"friend\"][\"kids\"])\n",
        "compare = \"more\" if friends_kid_count > my_kids_count else \"fewer\"\n",
        "\n",
        "print(f\"Hi, my name is {me}. I've got {my_kids_count} kids. Their names are {kids_list}.\")\n",
        "print(f\"My friend, {friend} has {friends_kid_count} kids. That's {compare} than me. Their names are {friends_kid_count}\")"
      ]
    }
  ],
  "metadata": {
    "kernelspec": {
      "display_name": "Python 3",
      "language": "python",
      "name": "python3"
    },
    "language_info": {
      "codemirror_mode": {
        "name": "ipython",
        "version": 3
      },
      "file_extension": ".py",
      "mimetype": "text/x-python",
      "name": "python",
      "nbconvert_exporter": "python",
      "pygments_lexer": "ipython3",
      "version": "3.9.16"
    },
    "colab": {
      "provenance": [],
      "include_colab_link": true
    }
  },
  "nbformat": 4,
  "nbformat_minor": 0
}