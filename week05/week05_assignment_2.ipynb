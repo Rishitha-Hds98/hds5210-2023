{
  "cells": [
    {
      "cell_type": "markdown",
      "metadata": {
        "nbgrader": {
          "grade": false,
          "grade_id": "intro",
          "locked": true,
          "schema_version": 1,
          "solution": false
        },
        "id": "4tPaJoAlQGWm"
      },
      "source": [
        "# Week 5 Exercises\n",
        "\n",
        "_McKinney 3.2_\n",
        "\n",
        "**Unlike in previous weeks, in the exercises below, you will need to create a function definition from scratch.  I'll provide specific instructions and examples for how it will be used, but you will have to do the work of definiging the whole function.**\n",
        "\n",
        "---\n",
        "---"
      ]
    },
    {
      "cell_type": "markdown",
      "metadata": {
        "nbgrader": {
          "grade": false,
          "grade_id": "longest",
          "locked": true,
          "schema_version": 1,
          "solution": false
        },
        "id": "h-iEa54LQGWq"
      },
      "source": [
        "### 25.1 Longest String\n",
        "\n",
        "Write a function called `longest (L)` that takes as its only parameter a list of strings.  Your function needs to find the longest of those strings and return the position number of that longest string.  An example is provided below:\n",
        "\n",
        "The longest word in that list of strings is \"birthday\" in position #1, so `longest(strings)` should return 1.\n",
        "```\n",
        ">>> strings = ['happy', 'birthday', 'to', 'me']\n",
        ">>> longest(strings)\n",
        "1\n",
        "```\n",
        "\n",
        "Be sure to include a docstring.  Include test cases in your docstring if you want to."
      ]
    },
    {
      "cell_type": "code",
      "execution_count": 31,
      "metadata": {
        "nbgrader": {
          "grade": false,
          "grade_id": "longest-answer",
          "locked": false,
          "schema_version": 1,
          "solution": true
        },
        "id": "0dug2kGBQGWq"
      },
      "outputs": [],
      "source": [
        "### BEGIN SOLUTION\n",
        "def longest(strings):\n",
        "  \"\"\"(list)->int\n",
        "  maximum length of the string is 0\n",
        "  Find the index of the longest string in a list of strings.\n",
        "\n",
        "   Parameters:\n",
        "    strings (list): A list of strings to search for the longest string.\n",
        "\n",
        "  Returns:\n",
        "    int: The index of the longest string in the list. If the input list is empty, it returns -1.\n",
        "\n",
        "  if\n",
        "  >>> longest(\"happy birthday to me\".split(\" \"))\n",
        "  1\n",
        "\n",
        "  >>> longest(\"enjoy class\".split(\" \"))\n",
        "  0\n",
        "\n",
        "  \"\"\"\n",
        "  maxs=0\n",
        "  count=-1\n",
        "  temp=0\n",
        "  for i in range(len(strings)):\n",
        "      count+=1\n",
        "      #print(i)\n",
        "      if len(strings[i])>maxs:\n",
        "          maxs=len(strings[i])\n",
        "          temp=count\n",
        "          #print(temp)\n",
        "  return temp\n",
        "### END SOLUTION"
      ]
    },
    {
      "cell_type": "code",
      "source": [
        "longest(['happy','birthday','to','me'])"
      ],
      "metadata": {
        "id": "VfESF2iOUNoh",
        "outputId": "cab663e6-cb4f-49e5-c7b1-f81b1a480b2c",
        "colab": {
          "base_uri": "https://localhost:8080/"
        }
      },
      "execution_count": 38,
      "outputs": [
        {
          "output_type": "execute_result",
          "data": {
            "text/plain": [
              "1"
            ]
          },
          "metadata": {},
          "execution_count": 38
        }
      ]
    },
    {
      "cell_type": "code",
      "execution_count": 39,
      "metadata": {
        "nbgrader": {
          "grade": true,
          "grade_id": "longest-tests",
          "locked": true,
          "points": 10,
          "schema_version": 1,
          "solution": false
        },
        "id": "VnmemX_JQGWs"
      },
      "outputs": [],
      "source": [
        "assert longest(\"happy birthday to me\".split(\" \")) == 1\n",
        "assert longest(\"enjoy class\".split(\" \")) == 0\n",
        "assert longest(['when','what','where','how','who']) == 2"
      ]
    },
    {
      "cell_type": "code",
      "execution_count": 37,
      "metadata": {
        "id": "_yZBXPvnQGWs",
        "outputId": "d012aa1a-cc92-4d2f-9d49-1634fe955303",
        "colab": {
          "base_uri": "https://localhost:8080/"
        }
      },
      "outputs": [
        {
          "output_type": "stream",
          "name": "stdout",
          "text": [
            "Finding tests in NoName\n",
            "Trying:\n",
            "    longest(\"happy birthday to me\".split(\" \"))\n",
            "Expecting:\n",
            "    1\n",
            "ok\n",
            "Trying:\n",
            "    longest(\"enjoy class\".split(\" \"))\n",
            "Expecting:\n",
            "    0\n",
            "ok\n"
          ]
        }
      ],
      "source": [
        "import doctest\n",
        "doctest.run_docstring_examples(longest, globals(), verbose=True)"
      ]
    },
    {
      "cell_type": "markdown",
      "metadata": {
        "id": "OsxJsKoYQGWt"
      },
      "source": [
        "### 25.2 Farenheit to Celsius\n",
        "\n",
        "Write a function called f_to_c() that converts a given temperature in degrees Farenheit to degrees Celsius.  If you don't recall that conversion, it is:\n",
        "\n",
        "$ temp_c = \\frac{5}{9} \\times (temp_f - 32) $\n",
        "\n",
        "Make sure that you code is well documented using the DocString examples, and that your code includes tests for 212f, 32f, and 98.6f."
      ]
    },
    {
      "cell_type": "code",
      "execution_count": 4,
      "metadata": {
        "id": "5aORogkTQGWt"
      },
      "outputs": [],
      "source": [
        "### BEGIN SOLUTION\n",
        "def f_to_c(tempf):\n",
        "  \"\"\"\n",
        "(int)->float\n",
        "float->float\n",
        "converting temperature from farenheit to degree celsius\n",
        "Parameters:\n",
        "float or int: The temperature in degrees Fahrenheit.\n",
        "Returns:\n",
        " celsius (int) or (float): The temperature in degrees Celsius to be converted.\n",
        "\n",
        "\n",
        "\n",
        ">>> f_to_c(212)\n",
        "100.0\n",
        "\n",
        ">>> f_to_c(32)\n",
        "0.0\n",
        "\n",
        ">>> f_to_c(98.6)\n",
        "37.0\n",
        "  \"\"\"\n",
        "\n",
        "  return (5/9)*(tempf-32)\n",
        "### END SOLUTION"
      ]
    },
    {
      "cell_type": "code",
      "execution_count": 5,
      "metadata": {
        "id": "fFAselpwQGWu"
      },
      "outputs": [],
      "source": [
        "assert f_to_c(212) == 100.0\n",
        "assert f_to_c(32) == 0.0\n",
        "assert f_to_c(98.6) == 37.0"
      ]
    },
    {
      "cell_type": "code",
      "execution_count": 20,
      "metadata": {
        "id": "3Qlqm5pLQGWu",
        "outputId": "58bed92a-071f-4bb2-c921-cf9945871b94",
        "colab": {
          "base_uri": "https://localhost:8080/"
        }
      },
      "outputs": [
        {
          "output_type": "stream",
          "name": "stdout",
          "text": [
            "Finding tests in NoName\n",
            "Trying:\n",
            "    f_to_c(212)\n",
            "Expecting:\n",
            "    100.0\n",
            "ok\n",
            "Trying:\n",
            "    f_to_c(32)\n",
            "Expecting:\n",
            "    0.0\n",
            "ok\n",
            "Trying:\n",
            "    f_to_c(98.6)\n",
            "Expecting:\n",
            "    37.0\n",
            "ok\n"
          ]
        }
      ],
      "source": [
        "import doctest\n",
        "doctest.run_docstring_examples(f_to_c, globals(), verbose=True)"
      ]
    },
    {
      "cell_type": "markdown",
      "metadata": {
        "id": "pSxvsD00QGWv"
      },
      "source": [
        "### 25.3 Computing Length of Stay\n",
        "\n",
        "For this problem, we have a collection of patient enounter data stored as a Python dictionary.  The `key` for the dictionary is the **encounter ID**, a code that starts with the letter `E` followed by four numbers.  The value associated with each encounter ID is another Python dictionary.  This \"inner\" dictionary holds three items: admit date, primary diagnosis, and discharge date.  See the example in the code below.\n",
        "\n",
        "You need to write a length of stay function that computes the length of stay, in whole days, between the admit date and discharge date.  However, if the diagnosis is \"Observation\" then the length of stay should always be returned as 0 regardless of the admit and discharge dates. Your function should should take three parameters: a start date, an end date, and a diagnosis.\n",
        "\n",
        "You will find it handy to refer to this example here on how to calculate the number of days between two dates: https://stackoverflow.com/questions/151199/how-to-calculate-number-of-days-between-two-given-dates"
      ]
    },
    {
      "cell_type": "code",
      "execution_count": 21,
      "metadata": {
        "id": "vZuQm8B-QGWv"
      },
      "outputs": [],
      "source": [
        "### BEGIN SOLUTION\n",
        "from datetime import date\n",
        "def los(admitdate,dischargedate,diagnosis):\n",
        "  \"\"\"\n",
        "(datetime.date), (datetime.date), (str)->int\n",
        "Calculate the length of stay in days based on admission and discharge dates.\n",
        "\n",
        "    Parameters:\n",
        "    admitdate (date): The date of admission.\n",
        "    dischargedate (date): The date of discharge.\n",
        "    diagnosis (str): The diagnosis for the patient.\n",
        "\n",
        "    Returns:\n",
        "    int: The length of stay in days. If the diagnosis is \"Observation,\" the LOS is 0.\n",
        "\n",
        "\n",
        ">>> los(date(2019,1,3), date(2019,1,8), \"COPD\")\n",
        "5\n",
        "\n",
        ">>> los(date(2020,1,5), date(2020,1,8), \"Observation\")\n",
        "0\n",
        "  \"\"\"\n",
        "  if(diagnosis!=\"Observation\"):\n",
        "    loss=(dischargedate-admitdate).days\n",
        "    return loss\n",
        "  else:\n",
        "    return 0\n",
        "\n",
        "### END SOLUTION"
      ]
    },
    {
      "cell_type": "code",
      "execution_count": 22,
      "metadata": {
        "id": "AVz_B3KZQGWw"
      },
      "outputs": [],
      "source": [
        "assert los(date(2019,1,3), date(2019,1,8), \"COPD\") == 5\n",
        "assert los(date(2020,1,5), date(2020,1,8), \"Observation\") == 0"
      ]
    },
    {
      "cell_type": "code",
      "execution_count": null,
      "metadata": {
        "id": "EZuWzXf6QGWw"
      },
      "outputs": [],
      "source": [
        "import doctest\n",
        "doctest.run_docstring_examples(los, globals(), verbose=True)"
      ]
    },
    {
      "cell_type": "code",
      "execution_count": 25,
      "metadata": {
        "id": "GdL0zDGXQGWw",
        "outputId": "719e7392-a205-4cf9-8124-6711407f3f85",
        "colab": {
          "base_uri": "https://localhost:8080/"
        }
      },
      "outputs": [
        {
          "output_type": "stream",
          "name": "stdout",
          "text": [
            "5\n",
            "4\n",
            "1\n",
            "0\n",
            "0\n"
          ]
        }
      ],
      "source": [
        "encounters = {\n",
        "    \"E1234\": { \"admit\": date(2019,1,3), \"diagnosis\": \"COPD\", \"discharge\": date(2019,1,8) },\n",
        "    \"E8342\": { \"admit\": date(2019,1,5), \"diagnosis\": \"Hypertension\", \"discharge\": date(2019,1,9) },\n",
        "    \"E9231\": { \"admit\": date(2019,1,12), \"diagnosis\": \"Anxiety\", \"discharge\": date(2019,1,13) },\n",
        "    \"E8333\": { \"admit\": date(2019,1,15), \"diagnosis\": \"Observation\", \"discharge\": date(2019,1,16) },\n",
        "    \"E3342\": { \"admit\": date(2019,1,4), \"diagnosis\": \"Anxiety\", \"discharge\": date(2019,1,4)}\n",
        "}\n",
        "\n",
        "\n",
        "for encid, visit in encounters.items():\n",
        "    print(los(visit['admit'],visit['discharge'],visit['diagnosis']))\n",
        "\n",
        "# Your output should be\n",
        "# 5\n",
        "# 4\n",
        "# 1\n",
        "# 0\n",
        "# 0"
      ]
    },
    {
      "cell_type": "markdown",
      "metadata": {
        "id": "frQvBeuDQGWw"
      },
      "source": [
        "---\n",
        "---\n",
        "\n",
        "### 25.4 Average Length of Stay\n",
        "\n",
        "Create a function called `average_los` that returns the average of the LOS for the encounters in the provided dictionary. The encounters must be a dictionary that contains dictionaries that each contain at least an admit date and a discharge date.\n",
        "    \n",
        "If the length of stay of any individual encounter is 0, then it will not be counted toward the average."
      ]
    },
    {
      "cell_type": "code",
      "execution_count": 26,
      "metadata": {
        "id": "PxoBLUUiQGWx"
      },
      "outputs": [],
      "source": [
        "\n",
        "### BEGIN SOLUTION\n",
        "from datetime import date\n",
        "def average_los(encounters):\n",
        "  \"\"\"\n",
        "  (datetime.date),(datetime.date),(str)->int\n",
        "  Calculate the average length of stay for patients based on their admission and discharge dates.\n",
        "\n",
        "    Parameters:\n",
        "    encounters (dict): A dictionary containing patient encounter information.\n",
        "\n",
        "    Returns:\n",
        "    float: The average length of stay in days for patients with non-\"Observation\" diagnoses.\n",
        "  >>> encounters = {\"E1234\": { \"admit\": date(2019,1,3),\"diagnosis\": \"COPD\", \"discharge\": date(2019,1,8) },\"E8342\": { \"admit\": date(2019,1,5),\"diagnosis\": \"Hypertension\", \"discharge\": date(2019,1,9) },\"E9231\": { \"admit\": date(2019,1,12), \"diagnosis\": \"Anxiety\", \"discharge\": date(2019,1,13) },\"E8333\": { \"admit\": date(2019,1,15), \"diagnosis\": \"Observation\", \"discharge\": date(2019,1,16) },\"E3342\": { \"admit\": date(2019,1,4), \"diagnosis\": \"Anxiety\", \"discharge\": date(2019,1,4)}}\n",
        "  >>> round(average_los(encounters),2)\n",
        "  3.33\n",
        "\n",
        "\n",
        "\n",
        "  \"\"\"\n",
        "  days_count=0\n",
        "  encounter_count=0\n",
        "  for key in encounters:\n",
        "    if(encounters.get(key).get(\"diagnosis\")!=\"Observation\"):\n",
        "      admitdate=encounters.get(key).get(\"admit\")\n",
        "      dischargedate=encounters.get(key).get(\"discharge\")\n",
        "      loss=(dischargedate-admitdate).days\n",
        "      if loss>0:\n",
        "        days_count+=loss\n",
        "        encounter_count+=1\n",
        "\n",
        "\n",
        "  if days_count>0:\n",
        "    return days_count/encounter_count\n",
        "  else:\n",
        "    return 0\n",
        "\n",
        "### END SOLUTION"
      ]
    },
    {
      "cell_type": "code",
      "execution_count": 27,
      "metadata": {
        "id": "RAEYSZm2QGWx"
      },
      "outputs": [],
      "source": [
        "from datetime import date\n",
        "encounters = {\n",
        "    \"E1234\": { \"admit\": date(2019,1,3), \"diagnosis\": \"COPD\", \"discharge\": date(2019,1,8) },\n",
        "    \"E8342\": { \"admit\": date(2019,1,5), \"diagnosis\": \"Hypertension\", \"discharge\": date(2019,1,9) },\n",
        "    \"E9231\": { \"admit\": date(2019,1,12), \"diagnosis\": \"Anxiety\", \"discharge\": date(2019,1,13) },\n",
        "    \"E8333\": { \"admit\": date(2019,1,15), \"diagnosis\": \"Observation\", \"discharge\": date(2019,1,16) },\n",
        "    \"E3342\": { \"admit\": date(2019,1,4), \"diagnosis\": \"Anxiety\", \"discharge\": date(2019,1,4)}\n",
        "}\n",
        "\n",
        "assert(round(average_los(encounters),2) == 3.33)"
      ]
    },
    {
      "cell_type": "code",
      "execution_count": 28,
      "metadata": {
        "id": "J5uzlzS6QGWx",
        "outputId": "5960ec4f-e44e-408c-9c62-e8115e2cc368",
        "colab": {
          "base_uri": "https://localhost:8080/"
        }
      },
      "outputs": [
        {
          "output_type": "stream",
          "name": "stdout",
          "text": [
            "Finding tests in NoName\n",
            "Trying:\n",
            "    encounters = {\"E1234\": { \"admit\": date(2019,1,3),\"diagnosis\": \"COPD\", \"discharge\": date(2019,1,8) },\"E8342\": { \"admit\": date(2019,1,5),\"diagnosis\": \"Hypertension\", \"discharge\": date(2019,1,9) },\"E9231\": { \"admit\": date(2019,1,12), \"diagnosis\": \"Anxiety\", \"discharge\": date(2019,1,13) },\"E8333\": { \"admit\": date(2019,1,15), \"diagnosis\": \"Observation\", \"discharge\": date(2019,1,16) },\"E3342\": { \"admit\": date(2019,1,4), \"diagnosis\": \"Anxiety\", \"discharge\": date(2019,1,4)}}\n",
            "Expecting nothing\n",
            "ok\n",
            "Trying:\n",
            "    round(average_los(encounters),2)\n",
            "Expecting:\n",
            "    3.33\n",
            "ok\n"
          ]
        }
      ],
      "source": [
        "import doctest\n",
        "doctest.run_docstring_examples(average_los, globals(), verbose=True)"
      ]
    },
    {
      "cell_type": "markdown",
      "metadata": {
        "id": "Wiv_QuneQGWx"
      },
      "source": [
        "---\n",
        "\n",
        "### 25.5 Celsius to Farenheit\n",
        "\n",
        "Write your own function called `c_to_f` that converts degrees Celsius to degrees Farenheit.  Include in your solution a series of doc tests that can verify the conversion using inputs of 100, 0, and 37 degrees Celsius"
      ]
    },
    {
      "cell_type": "code",
      "execution_count": 29,
      "metadata": {
        "id": "ixFdorwYQGWx"
      },
      "outputs": [],
      "source": [
        "### BEGIN SOLUTION\n",
        "def c_to_f(celsius):\n",
        "  \"\"\"(int)->float\n",
        "     (float)->float\n",
        "  Converting the temperature from Celsius to Fahrenheit.\n",
        "\n",
        "  Parameters:\n",
        "  celsius (int) or (float): The temperature in degrees Celsius to be converted.\n",
        "\n",
        "  Returns:\n",
        "  float or int: The temperature in degrees Fahrenheit.\n",
        "\n",
        "  >>> round(c_to_f(100),2)\n",
        "  212.0\n",
        "\n",
        "  >>> round(c_to_f(0),2)\n",
        "  32.0\n",
        "\n",
        "  >>> round(c_to_f(37),2)\n",
        "  98.6\n",
        "  \"\"\"\n",
        "  Farenheit=(celsius*(9/5))+32\n",
        "  return Farenheit\n",
        "\n",
        "\n",
        "### END SOLUTION"
      ]
    },
    {
      "cell_type": "code",
      "execution_count": 30,
      "metadata": {
        "id": "BfbebgsBQGWx",
        "outputId": "3a58ad43-97f9-4bb0-e6b5-43d1e0234eb1",
        "colab": {
          "base_uri": "https://localhost:8080/"
        }
      },
      "outputs": [
        {
          "output_type": "stream",
          "name": "stdout",
          "text": [
            "Finding tests in NoName\n",
            "Trying:\n",
            "    round(c_to_f(100),2)\n",
            "Expecting:\n",
            "    212.0\n",
            "ok\n",
            "Trying:\n",
            "    round(c_to_f(0),2)\n",
            "Expecting:\n",
            "    32.0\n",
            "ok\n",
            "Trying:\n",
            "    round(c_to_f(37),2)\n",
            "Expecting:\n",
            "    98.6\n",
            "ok\n"
          ]
        }
      ],
      "source": [
        "import doctest\n",
        "doctest.run_docstring_examples(c_to_f, globals(), verbose=True)"
      ]
    },
    {
      "cell_type": "code",
      "execution_count": null,
      "metadata": {
        "id": "gmyISqahQGWy"
      },
      "outputs": [],
      "source": []
    },
    {
      "cell_type": "markdown",
      "metadata": {
        "id": "YD_en522QGWy"
      },
      "source": [
        "---\n",
        "\n",
        "## Check your work above\n",
        "\n",
        "If you didn't get them all correct, take a few minutes to think through those that aren't correct.\n",
        "\n",
        "\n",
        "## Submitting Your Work\n",
        "\n",
        "In order to submit your work, you'll need to use the `git` command line program to **add** your homework file (this file) to your local repository, **commit** your changes to your local repository, and then **push** those changes up to github.com.  From there, I'll be able to **pull** the changes down and do my grading.  I'll provide some feedback, **commit** and **push** my comments back to you.  Next week, I'll show you how to **pull** down my comments.\n",
        "\n",
        "First run through everything one last time and submit your work:\n",
        "1. Use the `Kernel` -> `Restart Kernel and Run All Cells` menu option to run everything from top to bottom and stop here.\n",
        "2. Then open a new command line by clicking the `+` icon above the file list and chosing `Terminal`\n",
        "3. At the command line in the new Terminal, follow these steps:\n",
        "  1. Change directories to your project folder and the week03 subfolder (`cd <folder name>`)\n",
        "  2. Make sure your project folders are up to date with github.com (`git pull`)\n",
        "  3. Add the homework files for this week (`git add <file name>`)\n",
        "  4. Commit your changes (`git commit -a -m \"message\"`)\n",
        "  5. Push your changes (`git push`)\n",
        "  \n",
        "If anything fails along the way with this submission part of the process, let me know.  I'll help you troubleshoort."
      ]
    }
  ],
  "metadata": {
    "celltoolbar": "Create Assignment",
    "kernelspec": {
      "display_name": "Python 3",
      "language": "python",
      "name": "python3"
    },
    "language_info": {
      "codemirror_mode": {
        "name": "ipython",
        "version": 3
      },
      "file_extension": ".py",
      "mimetype": "text/x-python",
      "name": "python",
      "nbconvert_exporter": "python",
      "pygments_lexer": "ipython3",
      "version": "3.6.7"
    },
    "colab": {
      "provenance": []
    }
  },
  "nbformat": 4,
  "nbformat_minor": 0
}