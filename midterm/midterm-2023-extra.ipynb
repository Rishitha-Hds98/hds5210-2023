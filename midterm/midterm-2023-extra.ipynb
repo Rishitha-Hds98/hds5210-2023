{
  "cells": [
    {
      "cell_type": "markdown",
      "metadata": {
        "id": "VhevTrMjfmF4"
      },
      "source": [
        "# Extra Credit\n",
        "\n",
        "For upto an additional 15 extra credit points on the midterm exam, you can write another function that applies additional criteria on top of what the midterm already did.  To earn the addition points, you need write a function called `summarize_results(patients)` to take the output of your  `process_people()` function to apply a new business rule and summarize the results.\n",
        "\n",
        "* Your function should take the dictionary created by `process_people()` as it's one input parameter: `patients`.\n",
        "* If the PRIEST probably is less than 10%, change the `hospital` and `address` to both have a value of `'Home'` indicating patients with a lower probability of an adverse outcome can just go home rather than be admitted to a hospital.\n",
        "* Summarize those results and count how many patients are now being sent to each location.  Your result should have the following format:\n",
        "```\n",
        "{\n",
        "    \"Home\": 123,\n",
        "    \"Hospital A\": 10,\n",
        "    \"Hospital B\": 20,\n",
        "    \"Hospital C\": 30\n",
        "}\n",
        "```\n",
        "\n",
        "As always, your function needs good docstrings; but does not require any doctests in this case."
      ]
    },
    {
      "cell_type": "code",
      "execution_count": 3,
      "metadata": {
        "id": "M2ZrfR9ffmF7",
        "outputId": "a8d56700-e2da-43ec-9714-84384ff0409e",
        "colab": {
          "base_uri": "https://localhost:8080/"
        }
      },
      "outputs": [
        {
          "output_type": "execute_result",
          "data": {
            "text/plain": [
              "{'Select Specialty Hospital - Northeast Atlanta': 32,\n",
              " 'Wesley Woods Geriatric Hospital': 20,\n",
              " 'Southwest Hospital and Medical Center': 16,\n",
              " 'Childrens Healthcare of Atlanta at Scottish Rite': 1,\n",
              " 'Home': 24,\n",
              " 'Hughes Spalding Childrens Hospital': 1,\n",
              " 'Emory Dunwoody Medical Center': 5}"
            ]
          },
          "metadata": {},
          "execution_count": 3
        }
      ],
      "source": [
        "import json\n",
        "patients = json.load(open(\"/content/sample_data/output_details.json\"))\n",
        "def summarize_results(patients: dict) -> dict:\n",
        "    \"\"\"This function Summarizes and updates patient details based on certain conditions and generates grouped counts.\n",
        "\n",
        "    Args:\n",
        "        patients (dict): A dictionary containing patient details with keys as patient IDs and values as lists of details.\n",
        "\n",
        "    Returns:\n",
        "        dict: A dictionary containing the grouped counts based on the modified patient details.\n",
        "\n",
        "    Modifies:\n",
        "        - The 'details' list in the 'patients' dictionary based on certain conditions.\n",
        "        - Writes the modified details to a file named 'updated_details.json'.\n",
        "    \"\"\"\n",
        "    updated_details = {}\n",
        "    for patient_id, details in patients.items():\n",
        "\n",
        "        if details[10] < 0.1:\n",
        "            details[11] = \"Home\"\n",
        "            details[12] = \"Home\"\n",
        "        updated_details[patient_id] = details\n",
        "    # with open(\"/content/sample_data/updated_details.json\", \"w\") as json_file:\n",
        "    #     json.dump(/content/sample_data/updated_details.json, json_file)\n",
        "    grouped_counts = {}\n",
        "    for _, value in updated_details.items():\n",
        "        if value[11] in grouped_counts:\n",
        "            grouped_counts[value[11]] += 1\n",
        "        else:\n",
        "            grouped_counts[value[11]] = 1\n",
        "    return grouped_counts\n",
        "\n",
        "summarize_results(patients)\n"
      ]
    },
    {
      "cell_type": "code",
      "execution_count": null,
      "metadata": {
        "id": "zwOO2nXFfmF8"
      },
      "outputs": [],
      "source": []
    }
  ],
  "metadata": {
    "kernelspec": {
      "display_name": ".venv",
      "language": "python",
      "name": "python3"
    },
    "language_info": {
      "codemirror_mode": {
        "name": "ipython",
        "version": 3
      },
      "file_extension": ".py",
      "mimetype": "text/x-python",
      "name": "python",
      "nbconvert_exporter": "python",
      "pygments_lexer": "ipython3",
      "version": "3.9.16"
    },
    "colab": {
      "provenance": []
    }
  },
  "nbformat": 4,
  "nbformat_minor": 0
}