{
  "nbformat": 4,
  "nbformat_minor": 0,
  "metadata": {
    "colab": {
      "provenance": []
    },
    "kernelspec": {
      "name": "python3",
      "display_name": "Python 3"
    },
    "language_info": {
      "name": "python"
    }
  },
  "cells": [
    {
      "cell_type": "markdown",
      "source": [
        "**HDS5210 - 2023**\n",
        "\n",
        "**Final Project**\n",
        "\n",
        "This program gathers several data of nursing facilities across multiple states in the USA and does analysis specific to a particular Oregon city.It combines these datasets,cleans them,does multiple analyses,and presents the results via maps,pivot tables,and regression analysis. The Purpose of this project is to: Explore the data of Nursing facilities across the US and perform analysis specific to a city,Oregon\n",
        "\n",
        "* The number of Nursing Facilities in Cities\n",
        "*Average HCC Score of Nursing Facilities in USA\n",
        "*Oregon Nursing Facilities\n",
        "     1. Number,Average Stay Days,Charges,Medicare Allowed,HCC Score\n",
        "        Beneficiaries by Gender.\n",
        "     2. 10 Nursing Facilities with the Highest HCC\n",
        "\n"
      ],
      "metadata": {
        "id": "eGMqGjNU47n-"
      }
    },
    {
      "cell_type": "code",
      "execution_count": null,
      "metadata": {
        "id": "bpPHhqaZ46N3"
      },
      "outputs": [],
      "source": [
        "!pip install -q plotly nbformat requests pandas"
      ]
    },
    {
      "cell_type": "code",
      "source": [
        "import zipfile\n",
        "import io\n",
        "\n",
        "import requests\n",
        "import pandas as pd\n",
        "import plotly.graph_objs as go\n",
        "from plotly.subplots import make_subplots\n",
        "from plotly.offline import iplot\n",
        "\n",
        "import warnings\n",
        "warnings.filterwarnings(\"ignore\")"
      ],
      "metadata": {
        "id": "6fnNncN25dvO"
      },
      "execution_count": null,
      "outputs": []
    },
    {
      "cell_type": "markdown",
      "source": [
        "**Problem Statement: Nursing facilities**"
      ],
      "metadata": {
        "id": "vlhmsrmo5nAy"
      }
    },
    {
      "cell_type": "markdown",
      "source": [
        "\n",
        "# Data Set:1\n",
        "    - Data Source:local csv file\n",
        "    - https://data.cms.gov/provider-data/topics/nursing-homes\n",
        "    - This data set provides information on the nursing homes in US and the\n",
        "      details about the below fields\n",
        "    - Nursing facilities.csv\n",
        "    - Details\n",
        "        RangeIndex: 15026 entries, 0 to 15025\n",
        "        Data columns (total 41 columns):\n",
        "        -    N   Column                                                Non-Null Count  Dtype  \n",
        "        -    0   provider_id                                           15026 non-null  int64  \n",
        "        -    1   facility_name                                         15026 non-null  object\n",
        "        -    2   street_address                                        15026 non-null  object\n",
        "        -    3   city                                                  15026 non-null  object\n",
        "        -    4   state                                                 15026 non-null  object\n",
        "        -    5   zip_code                                              15026 non-null  int64  \n",
        "        -    6   total_stays                                           15026 non-null  int64  \n",
        "        -    7   distinct_beneficiaries_per_provider                   15026 non-null  int64  \n",
        "        -    8   average_length_of_stays_days                          15026 non-null  float64\n",
        "        -    9   total_snf_charge_amount                               15026 non-null  int64  \n",
        "        -    10  total_snf_medicare_allowed_amount                     15026 non-null  int64  \n",
        "        -    11  total_snf_medicare_payment_amount                     15026 non-null  int64  \n",
        "        -    12  total_snf_medicare_standard_payment_amount            15026 non-null  int64  \n",
        "        -    13  average_age                                           15026 non-null  int64  \n",
        "        -    14  male_beneficiaries                                    13370 non-null  float64\n",
        "        -    15  female_beneficiaries                                  13370 non-null  float64\n",
        "        -    16  nondual_beneficiaries                                 12149 non-null  float64\n",
        "        -    17  dual_beneficiaries                                    12149 non-null  float64\n",
        "        -    18  white_beneficiaries                                   14629 non-null  float64\n",
        "        -    19  black_beneficiaries                                   8934 non-null   float64\n",
        "        -    20  asian_pacific_islander_beneficiaries                  9557 non-null   float64\n",
        "        -    21  hispanic_beneficiaries                                8037 non-null   float64\n",
        "        -    22  american_indian_or_alaska_native_beneficiaries        11469 non-null  float64\n",
        "        -    23  other_unknown_beneficiaries                           5496 non-null   float64\n",
        "        -    24  average_hcc_score                                     15026 non-null  float64\n",
        "        -    25  percent_of_beneficiaries_with_atrial_fibrillation     15025 non-null  float64\n",
        "        -    26  percent_of_beneficiaries_with_alzheimers              14101 non-null  float64\n",
        "        -    27  percent_of_beneficiaries_with_asthma                  15026 non-null  int64  \n",
        "        -    28  percent_of_beneficiaries_with_cancer                  15026 non-null  int64  \n",
        "        -    29  percent_of_beneficiaries_with_chf                     14747 non-null  float64\n",
        "        -    30  percent_of_beneficiaries_with_chronic_kidney_disease  14735 non-null  float64\n",
        "        -    31  percent_of_beneficiaries_with_copd                    14991 non-null  float64\n",
        "        -    32  percent_of_beneficiaries_with_depression              14619 non-null  float64\n",
        "        -    33  percent_of_beneficiaries_with_diabetes                14872 non-null  float64\n",
        "        -    34  percent_of_beneficiaries_with_hyperlipidemia          13629 non-null  float64\n",
        "        -    35  percent_of_beneficiaries_with_hypertension            231 non-null    float64\n",
        "        -    36  percent_of_beneficiaries_with_ihd                     13917 non-null  float64\n",
        "        -    37  percent_of_beneficiaries_with_osteoporosis            15024 non-null  float64\n",
        "        -    38  percent_of_beneficiaries_with_ra_oa                   14318 non-null  float64\n",
        "        -    39  percent_of_beneficiaries_with_schizophrenia           14885 non-null  float64\n",
        "        -    40  percent_of_beneficiaries_with_stroke                  15026 non-null  int64  \n",
        "        dtypes: float64(25), int64(12), object(4)"
      ],
      "metadata": {
        "id": "o7GwIvdF5y63"
      }
    },
    {
      "cell_type": "markdown",
      "source": [
        "# Data Set 2\n",
        "    - DataSource:Web xlsx file\n",
        "    - https://simplemaps.com/static/data/us-cities/1.77/basic/simplemaps_uscities_basicv1.77.zip\n",
        "    - This data set provides information about the cities in US and their latitude and longitude\n",
        "    - US Cities.xlsx file\n",
        "    - Details\n",
        "        RangeIndex: 30844 entries, 0 to 30843\n",
        "        Data columns (total 17 columns):\n",
        "        -    N   Column        Non-Null Count  Dtype   \n",
        "        -   0   city          30844 non-null  object\n",
        "        -   1   city_ascii    30844 non-null  object\n",
        "        -   2   state_id      30844 non-null  object\n",
        "        -   3   state_name    30844 non-null  object\n",
        "        -   4   county_fips   30844 non-null  int64  \n",
        "        -   5   county_name   30844 non-null  object\n",
        "        -   6   lat           30844 non-null  float64\n",
        "        -   7   lng           30844 non-null  float64\n",
        "        -   8   population    30844 non-null  int64  \n",
        "        -   9   density       30844 non-null  float64\n",
        "        -   10  source        30844 non-null  object\n",
        "        -   11  military      30844 non-null  bool   \n",
        "        -   12  incorporated  30844 non-null  bool   \n",
        "        -   13  timezone      30844 non-null  object\n",
        "        -   14  ranking       30844 non-null  int64  \n",
        "        -   15  zips          30842 non-null  object\n",
        "        -   16  id            30844 non-null  int64  \n",
        "        \n",
        "        dtypes: bool(2), float64(3), int64(4), object(8)"
      ],
      "metadata": {
        "id": "XWehjR0-6g3f"
      }
    },
    {
      "cell_type": "markdown",
      "source": [
        "# Data Transformations\n",
        "    - Changes the dtypes of columns to be common in both datasets\n",
        "        - us_cities_df - city, state_id\n",
        "        - nursing_facilities_df - facility_name, city, state\n",
        "    \n",
        "\n",
        "# Data Merge / join\n",
        "    - Joining the two dfs with city from both data sets\n",
        "    - Merge the two dfs with state and state_id  \n",
        "\n",
        "# Data Visualizations\n",
        "    - Number of Nursing facility per city in US\n",
        "    - Average HCC score of nursing facilities in US Cities\n",
        "    - Summary of Nursing facilities in a region - Oregon"
      ],
      "metadata": {
        "id": "oX-RbpN162IY"
      }
    },
    {
      "cell_type": "markdown",
      "source": [
        "# **1. The Number of Nursing Facilities in Cities**\n",
        "\n",
        "Finding out the number of nursing facilities that are available in US based on cities.The purpose of the function get_us_cities_df() is to retrieve, handle, and store information about cities in the US.The Excel file containing the data from the SimpleMaps website is downloaded as a ZIP file. The function reads the Excel file into a pandas DataFrame and unzips the file after a successful download.The city data is now stored in this DataFrame, which is then locally saved as an Excel file for convenient access and future use.The function makes sure that everything is automated and effective, from data retrieval to storage.To confirm that the data retrieval was successful,an assertion check is performed at the end to make sure the DataFrame is not empty.This feature is a useful tool for quickly and easily accessing a large dataset of US cities for analysis."
      ],
      "metadata": {
        "id": "5QtCZAzk7K37"
      }
    },
    {
      "cell_type": "code",
      "source": [
        "# Data Source - Web, Data Format - xlsx\n",
        "def get_us_cities_df():\n",
        "    \"\"\"Get the xlsx file from the url - https://simplemaps.com/data/us-cities\n",
        "\n",
        "    Returns:\n",
        "        pd.DataFrame: DataFrame containing the US cities details\n",
        "    \"\"\"\n",
        "    zip_url = \"https://simplemaps.com/static/data/us-cities/1.77/basic/simplemaps_uscities_basicv1.77.zip\" #\n",
        "    response = requests.get(zip_url)\n",
        "\n",
        "    us_cities_df = pd.DataFrame()\n",
        "    if response.status_code == 200:\n",
        "        zip_file = zipfile.ZipFile(io.BytesIO(response.content))\n",
        "        file_list = zip_file.namelist()\n",
        "        for file in zip_file.namelist() :\n",
        "            if file.endswith(\".xlsx\"):\n",
        "                xlsx_file = file\n",
        "        with zip_file.open(xlsx_file) as csvfile:\n",
        "            us_cities_df = pd.read_excel(csvfile)\n",
        "            us_cities_df.to_excel('inputs/web/us_cities.xlsx')\n",
        "        return us_cities_df\n",
        "\n",
        "\n",
        "us_cities_df = get_us_cities_df()\n",
        "# us_cities_df.head()\n",
        "assert not us_cities_df.empty, \"US City extraction failed\""
      ],
      "metadata": {
        "id": "QlM7pNVR5h0Y"
      },
      "execution_count": null,
      "outputs": []
    },
    {
      "cell_type": "markdown",
      "source": [
        "The DataFrame's initial few rows can be rapidly viewed using the us_cities_df, function. Getting a general idea of the dataset including its structure, column names, and some initial values is made particularly easy with this function."
      ],
      "metadata": {
        "id": "tOWX5vZ48aVp"
      }
    },
    {
      "cell_type": "code",
      "source": [
        "us_cities_df.head()"
      ],
      "metadata": {
        "id": "qseIlA288bhc"
      },
      "execution_count": null,
      "outputs": []
    },
    {
      "cell_type": "markdown",
      "source": [
        "Data from a local CSV file is loaded into a pandas DataFrame using the get_nursing_facilities_df() function.The pd.read_csv function in pandas is used to read a file called nursing_facilities.csv that is stored in the inputs/local directory.The function then returns the data as a DataFrame.The index_col=False argument in read_csv, for example, indicates that pandas will automatically generate a default index since there is no index column in the CSV file that should be used as the DataFrame's index.The function is defined, and then the code calls it to create a DataFrame called nursing_facilities_df,containing the CSV file's data.Next, a check is made to see if the DataFrame is empty using an assertion (assert not nursing_facilities_df.empty).This assertion verifies that the CSV file was read and serves as a basic validation step."
      ],
      "metadata": {
        "id": "mU-6PwnA8ib9"
      }
    },
    {
      "cell_type": "code",
      "source": [
        "# Data Source - Local, Data Format - csv\n",
        "def get_nursing_facilities_df():\n",
        "    return pd.read_csv(\"inputs/local/nursing_facilities.csv\", index_col=False)\n",
        "\n",
        "nursing_facilities_df = get_nursing_facilities_df()\n",
        "assert not nursing_facilities_df.empty, \"Nursing Facility extraction failed\""
      ],
      "metadata": {
        "id": "WehJ4Hoa8oeI"
      },
      "execution_count": null,
      "outputs": []
    },
    {
      "cell_type": "code",
      "source": [
        "nursing_facilities_df.head()"
      ],
      "metadata": {
        "id": "1W_VUgfC8sIg"
      },
      "execution_count": null,
      "outputs": []
    },
    {
      "cell_type": "markdown",
      "source": [
        "Us_cities_df and nursing_facilities_df are two pandas DataFrames that are subjected to specific data transformation and cleaning operations by the perform_data_transformations() function.The operations involve changing the text data within specific columns.To be more precise,the function removes any leading or trailing spaces and converts all characters in the 'city' column to uppercase for both DataFrames.The same transformation is also applied to the'state_id' column in the us_cities_df DataFrame.The 'facility_name' and'state' columns in the nursing_facilities_df DataFrame,meanwhile, experience comparable changes to their contents,which include a conversion to uppercase and the removal of extra spaces.Because they guarantee consistency in the way text data is represented across various columns, these transformations are crucial for standardizing data,particularly in advance of additional data analysis or dataset mergers"
      ],
      "metadata": {
        "id": "FpiJ2YV9813s"
      }
    },
    {
      "cell_type": "code",
      "source": [
        "def perform_data_transformations():\n",
        "    us_cities_df['city'] = us_cities_df['city'].str.upper().str.strip()\n",
        "    us_cities_df['state_id'] = us_cities_df['state_id'].str.upper().str.strip()\n",
        "    nursing_facilities_df['facility_name'] = nursing_facilities_df['facility_name'].str.upper().str.strip()\n",
        "    nursing_facilities_df['city'] = nursing_facilities_df['city'].str.upper().str.strip()\n",
        "    nursing_facilities_df['state'] = nursing_facilities_df['state'].str.upper().str.strip()\n",
        "perform_data_transformations()"
      ],
      "metadata": {
        "id": "6JE81Osa8_yz"
      },
      "execution_count": null,
      "outputs": []
    },
    {
      "cell_type": "markdown",
      "source": [],
      "metadata": {
        "id": "jE8DwrYu9F2D"
      }
    },
    {
      "cell_type": "code",
      "source": [
        "def perform_visualize_1(df_result):\n",
        "    df_result.loc[:,'text'] = df_result['city'] + '<br>The number of nursing facilities:' + (df_result['total_facilities']).astype(str)\n",
        "    limits = [(0,3),(4,10),(11,20),(21,50),(50,100),(101,500),(501,5600)]\n",
        "    colors = [\"royalblue\",\"lightseagreen\",\" yellowgreen\",\"yellow\",\"orange\",\"crimson\",\"lightgrey\"]\n",
        "    fig = go.Figure()\n",
        "    for i in range(len(limits)):\n",
        "        lim = limits[i]\n",
        "        df_sub = df_result[lim[0]:lim[1]]\n",
        "        fig.add_trace(go.Scattergeo(\n",
        "            locationmode = 'USA-states',\n",
        "            lon = df_sub['lng'],\n",
        "            lat = df_sub['lat'],\n",
        "            text = df_sub['text'],\n",
        "            marker = dict(\n",
        "                size = df_sub['total_facilities']*2,\n",
        "                color = colors[i],\n",
        "                line_color='rgb(40,40,40)',\n",
        "                line_width=0.5,\n",
        "                sizemode = 'area'\n",
        "            ),\n",
        "            name = '{0} - {1}'.format(lim[0],lim[1])))\n",
        "    fig.update_layout(\n",
        "            title_text = 'US Nursing facilities<br>(Click legend to toggle traces)',\n",
        "            showlegend = True,\n",
        "            legend_title_text='Total Nursing Facilities Ranking',\n",
        "            geo = dict(\n",
        "                scope = 'usa',\n",
        "                landcolor = 'rgb(217, 217, 217)'\n",
        "            )\n",
        "        )\n",
        "    fig.show()"
      ],
      "metadata": {
        "id": "RjTuxQOQ9GdH"
      },
      "execution_count": null,
      "outputs": []
    },
    {
      "cell_type": "code",
      "source": [
        "def perform_data_merge_operation_1_and_visualize():\n",
        "    df_grouped = nursing_facilities_df.groupby(['city', 'state']).size().reset_index(name='total_facilities').sort_values(by='total_facilities', ascending=False)\n",
        "    df_merge = pd.merge(df_grouped, us_cities_df, how='inner', left_on=['city', 'state'], right_on=['city', 'state_id'])\n",
        "    df_result = df_merge[['city', 'state', 'total_facilities', 'lat', 'lng', 'population']]\n",
        "    print(df_result.head())\n",
        "    perform_visualize_1(df_result)\n",
        "    return df_result"
      ],
      "metadata": {
        "id": "S_4giqD59Nek"
      },
      "execution_count": null,
      "outputs": []
    },
    {
      "cell_type": "code",
      "source": [
        "result_df = perform_data_merge_operation_1_and_visualize()"
      ],
      "metadata": {
        "id": "MQbvuHKE9TwY"
      },
      "execution_count": null,
      "outputs": []
    },
    {
      "cell_type": "markdown",
      "source": [
        "#2.Average HCC Score of Nursing Facilities in States\n",
        "The Center for Medicare & Medicaid Services (CMS) uses a Hierarchical Condition Category (HCC) risk adjustment model to calculate risk scores. CMS uses HCCs to reimburse Medicare Advantage plans based on the health of their members. It pays accurately for the predicted cost expenditures of patients by adjusting those payments based on demographic information and patient health status. The risk assessment data used is based on the diagnosis information pulled from claims and medical records which are collected by physician offices, hospital inpatient visits and in outpatient settings. CMS states that higher HCC scores means there is higher risk of chronic diseases while lower hcc indicates healthy population.\n",
        "\n"
      ],
      "metadata": {
        "id": "Zy0cyXWr9ZAk"
      }
    },
    {
      "cell_type": "code",
      "source": [
        "df_groupby= result_df[['state','total_facilities','population']].groupby(\"state\").sum()\n",
        "df_groupby['ratio'] = df_groupby['population']/df_groupby['total_facilities']\n",
        "df_groupby['ratio'] = df_groupby['ratio'].astype('int')\n",
        "df_groupby.sort_values(by=['ratio'], inplace=True)\n",
        "df_groupby.reset_index(inplace=True)\n",
        "df_hcc = nursing_facilities_df.groupby('state').agg(\n",
        "    avg_hcc_score=('average_hcc_score', 'mean'),\n",
        "    max_hcc_score=('average_hcc_score', 'max'),\n",
        "    min_hcc_score=('average_hcc_score', 'min'),\n",
        "    total_facilities=('average_hcc_score', 'count')\n",
        ")\n",
        "df_hcc['HCC_rank'] = df_hcc['avg_hcc_score'].rank(method='min')\n",
        "df_hcc['FAC_desc'] = df_hcc['total_facilities'].rank(method='dense', ascending=False)\n",
        "df_hcc = df_hcc.sort_values('avg_hcc_score')\n",
        "df_hcc.reset_index(inplace=True)\n",
        "print(df_hcc)"
      ],
      "metadata": {
        "id": "qKHMLlpQ9e4n"
      },
      "execution_count": null,
      "outputs": []
    },
    {
      "cell_type": "code",
      "source": [
        "scl = [[0.0, 'rgb(255,233,225)'],[0.2, 'rgb(249,220,211)'],[0.4, 'rgb(227,192,183)'], [0.6, 'rgb(210,178,167)'],[0.8, 'rgb(182,151,146)'],[1.0, '#734842']]\n",
        "data = [ dict(\n",
        "        type='choropleth',\n",
        "        colorscale = scl,\n",
        "        autocolorscale = False,\n",
        "        locations = df_hcc.state,\n",
        "        z = df_hcc.avg_hcc_score,\n",
        "        locationmode = 'USA-states',\n",
        "        text = df_hcc.state,\n",
        "        marker = dict(\n",
        "            line = dict (\n",
        "                color = 'rgb(255,255,255)',\n",
        "                width = 2\n",
        "            ) ),\n",
        "        colorbar = dict(\n",
        "            title = \"Average HCC Scores\")\n",
        "        )\n",
        "       ]\n",
        "layout = dict(\n",
        "        title = 'Average HCC Scores of Nursing Facilities in States',\n",
        "        geo = dict(\n",
        "            scope='usa',\n",
        "            projection=dict( type='albers usa' ),\n",
        "            showlakes = True,\n",
        "            lakecolor = 'rgb(255, 255, 255)'),\n",
        "             )\n",
        "fig = dict( data=data, layout=layout )\n",
        "iplot( fig, filename='d3-cloropleth-map' )"
      ],
      "metadata": {
        "id": "eV1c1QvX9m40"
      },
      "execution_count": null,
      "outputs": []
    },
    {
      "cell_type": "markdown",
      "source": [
        "#3. Oregon Nursing Facilities\n",
        "- 3.1.  FInd the below details for a particular city - Oregon\n",
        "    - Duration of stay in days,\n",
        "    - Charges,\n",
        "    - Medicare Allowed,\n",
        "    - Beneficiaries by Gender"
      ],
      "metadata": {
        "id": "p207ygD49uGh"
      }
    },
    {
      "cell_type": "code",
      "source": [
        "df_onfs = nursing_facilities_df.groupby('state').agg(\n",
        "    average_length_of_stays_days=('average_length_of_stays_days', 'mean'),\n",
        "    total_snf_charge_amount=('total_snf_charge_amount', 'sum'),\n",
        "    total_snf_medicare_allowed_amount=('total_snf_medicare_allowed_amount', 'sum'),\n",
        "    male_beneficiaries=('male_beneficiaries', 'sum'),\n",
        "    female_beneficiaries=('female_beneficiaries', 'sum')\n",
        ")\n",
        "\n",
        "df_onfs['medicare_covered_rate'] = (df_onfs['total_snf_medicare_allowed_amount'] / df_onfs['total_snf_charge_amount']).round(2)\n",
        "df_onfs['staylength_desc'] = df_onfs['average_length_of_stays_days'].rank(method='min', ascending=False)\n",
        "df_onfs['coveredrate_desc'] = (df_onfs['total_snf_medicare_allowed_amount'] / df_onfs['total_snf_charge_amount']).rank(method='min', ascending=False)\n",
        "\n",
        "df_onfs = df_onfs.sort_values(['average_length_of_stays_days', 'coveredrate_desc'], ascending=[False, True])\n",
        "df_onfs.reset_index(inplace=True)\n",
        "\n",
        "print(df_onfs)"
      ],
      "metadata": {
        "id": "Kv5Aj-Tx9-a1"
      },
      "execution_count": null,
      "outputs": []
    },
    {
      "cell_type": "code",
      "source": [
        "df_onfs[df_onfs['state']==\"OR\"]"
      ],
      "metadata": {
        "id": "cc5tXns1-C5S"
      },
      "execution_count": null,
      "outputs": []
    },
    {
      "cell_type": "code",
      "source": [
        "fig=go.Figure()\n",
        "fig.add_trace(go.Scatter(\n",
        "    x=[0, 1, 2, 3, 4],\n",
        "    y=[1.6, 1.6, 1.6, 1.6,1.6],\n",
        "    mode=\"text\",\n",
        "    text=[\"<span style='font-size:25px'><b>119</b></span>\",\n",
        "          \"<span style='font-size:25px'><b>36979:1</b></span>\",\n",
        "          \"<span style='font-size:25px'><b>24.43</b></span>\",\n",
        "          \"<span style='font-size:25px'><b>291.08M</b></span>\",\n",
        "          \"<span style='font-size:25px'><b>202.22M</b></span>\"],\n",
        "    textposition=\"bottom center\"\n",
        "))\n",
        "fig.add_trace(go.Scatter(\n",
        "    x=[0, 1, 2, 3, 4],\n",
        "    y=[1.1, 1.1, 1.1, 1.1, 1.1],\n",
        "    mode=\"text\",\n",
        "    text=[\"Nursing Facilities\",\"Population:Facilities\", \"Average Stays Days\", \"Charges\", \"Medicare Allowed Charges\"],\n",
        "    textposition=\"bottom center\"\n",
        "))\n",
        "fig.add_hline(y=2.2, line_width=5, line_color='gray')\n",
        "fig.add_hline(y=0.3, line_width=3, line_color='gray')\n",
        "fig.update_yaxes(visible=False)\n",
        "fig.update_xaxes(visible=False)\n",
        "fig.update_layout(height=300, hovermode=False, showlegend=False,\n",
        "                  title=\"Oregon Nursing Facilities Summary\", title_x=0.5, title_y=0.9,\n",
        "                  xaxis_range=[-0.5,4.6], yaxis_range=[-0.2,2.2],\n",
        "                  margin=dict(t=90, b=0, l=70, r=70),\n",
        "                  plot_bgcolor='#333', paper_bgcolor='#333',\n",
        "                  title_font=dict(size=35, color='#8a8d93'),\n",
        "                  font=dict(size=16, color='#8a8d93'),\n",
        "                 )"
      ],
      "metadata": {
        "id": "OD0_Gr0q-GZB"
      },
      "execution_count": null,
      "outputs": []
    },
    {
      "cell_type": "code",
      "source": [
        "fig = make_subplots(rows=1, cols=3, vertical_spacing=1, specs=[[{\"type\": \"bar\"},{\"type\": \"pie\"},{\"type\": \"pie\"}]],\n",
        "                    column_widths=[0.4, 0.3,0.3],\n",
        "                    subplot_titles=(\"HCC Score<br>\", \"Charges<br>\", \"Beneficiaries<br>\"))\n",
        "\n",
        "fig.add_trace(go.Bar(x=[1.33,2.06,3.97], y=['Min','Avg','Max'], marker_color='#334668', text=[1.33,2.06,3.97], textposition = \"inside\",\n",
        "                     name='HCC Score', orientation='h',showlegend=False),\n",
        "                     row=1, col=1)\n",
        "fig.add_trace(go.Pie(values=[202223598,291077563-202223598], labels=['Medicare Allowed','Medicare Uncovered'], name='Total Charges',\n",
        "                     marker_colors=['#4c78a8','#72b7b2'],\n",
        "                     hole=0.5, rotation=90, showlegend=False,\n",
        "                     hoverinfo='label+percent+value', textinfo='label'),\n",
        "                     row=1, col=2)\n",
        "fig.add_trace(go.Pie(values=[5557,7557], labels=['Male','Female'], name='Beneficiaries',\n",
        "                     marker_colors=['#4c78a8','#72b7b2'],\n",
        "                     hole=0.5, rotation=90, showlegend=False,\n",
        "                     hoverinfo='label+percent+value', textinfo='label'),\n",
        "                     row=1, col=3)\n",
        "\n",
        "# styling\n",
        "fig.update_yaxes(showgrid=False, ticksuffix=' ', categoryorder='total ascending')\n",
        "fig.update_xaxes(visible=False)\n",
        "fig.update_traces(hovertemplate=None, marker=dict(line=dict(width=0)))\n",
        "fig.update_layout(height=360,  yaxis_title='', barmode='stack',\n",
        "                  margin=dict(t=70, b=40, l=0, r=70),\n",
        "                  plot_bgcolor='#333', paper_bgcolor='#333',\n",
        "                  font=dict(size=13, color='#8a8d93'))\n",
        "fig.show()"
      ],
      "metadata": {
        "id": "TYZJvU2I-Qbo"
      },
      "execution_count": null,
      "outputs": []
    },
    {
      "cell_type": "markdown",
      "source": [
        " # 3.2.Top 10 Nursing Facilities with the Highest HCC"
      ],
      "metadata": {
        "id": "fhxwG8yn-VRM"
      }
    },
    {
      "cell_type": "code",
      "source": [
        "df_or = nursing_facilities_df[nursing_facilities_df['state'] == 'OR']\n",
        "df_sorted = df_or[['facility_name', 'city', 'average_hcc_score', 'average_length_of_stays_days', 'total_snf_charge_amount', 'total_snf_medicare_allowed_amount']]\\\n",
        "                .sort_values('average_hcc_score', ascending=False)\n",
        "df_sorted['medicare_covered_rate'] = (df_sorted['total_snf_medicare_allowed_amount'] / df_sorted['total_snf_charge_amount']).round(2)\n",
        "df_plot1 = df_sorted.head(10)\n",
        "df_plot1"
      ],
      "metadata": {
        "id": "o1uVEA-z-l_3"
      },
      "execution_count": null,
      "outputs": []
    },
    {
      "cell_type": "code",
      "source": [
        "fig = make_subplots(rows=1, cols=2, column_widths=[0.1,0.9], shared_yaxes=True, horizontal_spacing=0)\n",
        "fig.append_trace(go.Bar(x=df_plot1['average_hcc_score'], y=df_plot1['facility_name'], orientation='h', showlegend=True,\n",
        "                        text=df_plot1['average_hcc_score'], name='average_hcc_score', marker_color='#334668'), 1, 1)\n",
        "fig.append_trace(go.Bar(x=-df_plot1['medicare_covered_rate'], y=df_plot1['facility_name'], orientation='h', showlegend=True,\n",
        "                        text=df_plot1['medicare_covered_rate'], name='medicare_covered_rate', marker_color='#6D83AA'), 1, 2)\n",
        "fig.append_trace(go.Bar(x=df_plot1['average_length_of_stays_days'], y=df_plot1['facility_name'], orientation='h', showlegend=True,\n",
        "                        text=df_plot1['average_length_of_stays_days'], name='average_length_of_stays_days', marker_color='#496595'), 1, 2)\n",
        "fig.update_xaxes(showgrid=False, zeroline=False)\n",
        "fig.update_yaxes(ticksuffix='  ')\n",
        "fig.update_traces(hovertemplate=None, marker=dict(line=dict(width=0)),\n",
        "                  textposition='auto')\n",
        "fig.update_layout(height=500, barmode='overlay',\n",
        "                  title=\"<span style='font-size:40px; font-family:Times New Roman'>10 Nursing Facilities with the Highest HCC</span>\",\n",
        "                  margin=dict(t=110, b=35, l=120, r=40),\n",
        "                  plot_bgcolor='#333', paper_bgcolor='#333',\n",
        "                  title_font=dict(size=18, color='#8a8d93', family=\"Lato, sans-serif\"),\n",
        "                  font=dict(size=13, color='#8a8d93'),\n",
        "                  legend=dict(title=\"\", orientation=\"v\", yanchor=\"bottom\", xanchor=\"center\", x=0.83, y=1.05,\n",
        "                              bordercolor=\"#fff\", borderwidth=0.5, font_size=13))\n",
        "fig.show()"
      ],
      "metadata": {
        "id": "dIbDIIdB-qT1"
      },
      "execution_count": null,
      "outputs": []
    },
    {
      "cell_type": "code",
      "source": [
        "import pandas as pd\n",
        "from sklearn.linear_model import LinearRegression\n",
        "from sklearn.model_selection import train_test_split\n",
        "from sklearn.metrics import mean_squared_error, r2_score\n",
        "import matplotlib.pyplot as plt\n",
        "\n",
        "# Assuming 'data' is your DataFrame containing the dataset\n",
        "\n",
        "# List of numerical columns (excluding 'total_stays')\n",
        "numerical_columns = nursing_facilities_df.select_dtypes(include=['float64', 'int64']).columns.tolist()\n",
        "numerical_columns.remove('total_stays')  # Remove 'total_stays' from the list\n",
        "\n",
        "for column in numerical_columns:\n",
        "    nursing_facilities_df[column].fillna(nursing_facilities_df[column].mean(), inplace=True)\n",
        "    X = nursing_facilities_df[[column]]  # Feature\n",
        "    y = nursing_facilities_df['total_stays']  # Target\n",
        "\n",
        "\n",
        "    X_train, X_test, y_train, y_test = train_test_split(X, y, test_size=0.2, random_state=42)\n",
        "\n",
        "    model = LinearRegression()\n",
        "    model.fit(X_train, y_train)\n",
        "    y_pred = model.predict(X_test)\n",
        "\n",
        "    mse = mean_squared_error(y_test, y_pred)\n",
        "    r2 = r2_score(y_test, y_pred)\n",
        "\n",
        "    print(f\"Column: {column}\")\n",
        "    print(f\"Mean Squared Error: {mse}\")\n",
        "    print(f\"R-squared Score: {r2}\")\n",
        "\n",
        "    # Scatter plot for actual data and regression line\n",
        "    plt.scatter(X_test, y_test, color='blue', label='Actual')\n",
        "    plt.plot(X_test, y_pred, color='red', linewidth=2, label='Predicted')\n",
        "    plt.xlabel(column)\n",
        "    plt.ylabel('Total Stays')\n",
        "    plt.title(f'Linear Regression: {column} vs. Total Stays')\n",
        "    plt.legend()\n",
        "    plt.show()"
      ],
      "metadata": {
        "id": "NGsQy42q-y6Q"
      },
      "execution_count": null,
      "outputs": []
    },
    {
      "cell_type": "markdown",
      "source": [
        "#Inference:\n",
        "Some of the columns show relatively low R-squared values and high mean squared errors, indicating a poor fit for linear regression when predicting total_stays based solely on those columns. However, there are a few columns that show promising results:\n",
        "\n",
        "* Stronger Relationships: distinct_beneficiaries_per_provider has a very high R-squared score of approximately 0.99, indicating a strong linear relationship with total_stays. total_snf_medicare_standard_payment_amount, total_snf_medicare_payment_amount, total_snf_medicare_allowed_amount, and total_snf_charge_amount also show relatively high R-squared scores. ranging from 0.79 to 0.90, suggesting a good relationship with the target variable.\n",
        "* Weak Relationships: Several columns, such as provider_id, zip_code, and average_age, have very low R-squared values close to zero, indicating a weak or negligible linear relationship with total_stays.\n",
        "* Mixed Relationships:\n",
        "Other columns like dual_beneficiaries,black_beneficiaries, and hispanic_beneficiaries exhibit moderate R-squared values, implying a moderate but not strong linear relationship.\n",
        "\n",
        "\n",
        ""
      ],
      "metadata": {
        "id": "1iIaeJbx_Iu3"
      }
    },
    {
      "cell_type": "markdown",
      "source": [
        "\n",
        "# CONCLUSION:\n",
        "\n",
        "*   The analysis done showcases that the beneficiaries of the medicare and the percentage of people who are covered by the medicare insurance.\n",
        "*   The linear regression on the data set reveals that there is a strong relationship between distinct beneficiaries per provider and total stays.\n",
        "*  Also there is a good relation between the charges incurred with respect to the average stay in a particular facility.\n",
        "\n"
      ],
      "metadata": {
        "id": "RjS3KvCbMXgw"
      }
    }
  ]
}