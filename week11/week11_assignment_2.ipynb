{
  "cells": [
    {
      "cell_type": "markdown",
      "metadata": {
        "id": "bk2Xmt96CEjI"
      },
      "source": [
        "# Week 11 Assignment\n",
        "\n",
        "\n",
        "Please do the programming exercise and verify that your code works using the tests, then think about your final project and fill out the questions in the second part.\n",
        "\n",
        "---\n",
        "---"
      ]
    },
    {
      "cell_type": "markdown",
      "metadata": {
        "id": "TqY9HQlECEjJ"
      },
      "source": [
        "### 47.1: Filtering and summarizing data\n",
        "\n",
        "For this work, you'll find a data file in `https://hds5210-data.s3.amazonaws.com/complications_all.csv`.\n",
        "\n",
        "Read in the data file and create a variable called `mo_hospitals` that contains a data frame from the `complications_all.csv` file, filtered down to only contain those hospitals from the state of Missouri (MO).\n",
        "\n",
        "Then aggregate that data by hospital into a variable named `mo_summary`.  There are some key fields that we want to summarize:\n",
        "* We want to know the earliest date that each hospital was participating in any program\n",
        "* We want to know the latest date that each hospital stopped participating in any program\n",
        "* We want to know the total number of patients in the denominators of these programs\n",
        "\n",
        "Some things to note:\n",
        "* You will need to convert the `Start Date` and `End Date` to actual datetime fields\n",
        "* You will need to clean up and convert the `Denominator` field to just be numeric - the rule that you should use it to simply remove any records where the `Denominator` is `'Not Available'`\n",
        "\n",
        "\n",
        "The final result of this step should be a new data frame called `mo_summary` that contains one row for each hospital and contains the min start date, max end date, and total denominator.  Use the names `start_date`, `end_date`, and `number` for those columns in `mo_summary`.\n",
        "\n",
        "\n",
        "You do not need to create your code in the form of a function, just make sure your variable names match what I've described above so the tests work."
      ]
    },
    {
      "cell_type": "code",
      "execution_count": 28,
      "metadata": {
        "id": "KX-ea5K9CEjK"
      },
      "outputs": [],
      "source": [
        "import pandas as pd\n",
        "# This is just to show you the name to use for the variable you need to create for this step to pass.\n",
        "complications_all = pd.read_csv('https://hds5210-data.s3.amazonaws.com/complications_all.csv')\n"
      ]
    },
    {
      "cell_type": "code",
      "execution_count": 34,
      "metadata": {
        "id": "X-h5500kCEjK",
        "outputId": "345a8bd2-fff6-48f8-92d7-a65424f902c7",
        "colab": {
          "base_uri": "https://localhost:8080/"
        }
      },
      "outputs": [
        {
          "output_type": "stream",
          "name": "stderr",
          "text": [
            "<ipython-input-34-d40f740bbf7c>:4: SettingWithCopyWarning: \n",
            "A value is trying to be set on a copy of a slice from a DataFrame.\n",
            "Try using .loc[row_indexer,col_indexer] = value instead\n",
            "\n",
            "See the caveats in the documentation: https://pandas.pydata.org/pandas-docs/stable/user_guide/indexing.html#returning-a-view-versus-a-copy\n",
            "  mo_hospitals['Start Date'] = pd.to_datetime(mo_hospitals['Start Date'])\n",
            "<ipython-input-34-d40f740bbf7c>:5: SettingWithCopyWarning: \n",
            "A value is trying to be set on a copy of a slice from a DataFrame.\n",
            "Try using .loc[row_indexer,col_indexer] = value instead\n",
            "\n",
            "See the caveats in the documentation: https://pandas.pydata.org/pandas-docs/stable/user_guide/indexing.html#returning-a-view-versus-a-copy\n",
            "  mo_hospitals['End Date'] = pd.to_datetime(mo_hospitals['End Date'])\n",
            "<ipython-input-34-d40f740bbf7c>:7: SettingWithCopyWarning: \n",
            "A value is trying to be set on a copy of a slice from a DataFrame.\n",
            "Try using .loc[row_indexer,col_indexer] = value instead\n",
            "\n",
            "See the caveats in the documentation: https://pandas.pydata.org/pandas-docs/stable/user_guide/indexing.html#returning-a-view-versus-a-copy\n",
            "  mo_hospitals['Denominator'] = pd.to_numeric(mo_hospitals['Denominator'], errors='coerce')\n"
          ]
        }
      ],
      "source": [
        "def Clean_aggregate(df):\n",
        "    mo_hospitals = df[df['State'] == 'MO']\n",
        "\n",
        "    mo_hospitals['Start Date'] = pd.to_datetime(mo_hospitals['Start Date'])\n",
        "    mo_hospitals['End Date'] = pd.to_datetime(mo_hospitals['End Date'])\n",
        "\n",
        "    mo_hospitals['Denominator'] = pd.to_numeric(mo_hospitals['Denominator'], errors='coerce')\n",
        "    mo_hospitals = mo_hospitals.dropna(subset=['Denominator'])\n",
        "\n",
        "    mo_hospitals['Denominator'] = mo_hospitals['Denominator'].astype(int)\n",
        "\n",
        "\n",
        "    return mo_hospitals.groupby('Facility Name').agg(\n",
        "        start_date=('Start Date', 'min'),\n",
        "        end_date=('End Date', 'max'),\n",
        "        number=('Denominator', 'sum')\n",
        "    )\n",
        "\n",
        "# Apply the function outside the definition\n",
        "mo_summary = Clean_aggregate(complications_all)"
      ]
    },
    {
      "cell_type": "code",
      "source": [
        "print(mo_summary)"
      ],
      "metadata": {
        "id": "0FsejV5mKXOE",
        "outputId": "4b91cee3-c92c-4a96-8298-740ffc847833",
        "colab": {
          "base_uri": "https://localhost:8080/"
        }
      },
      "execution_count": 35,
      "outputs": [
        {
          "output_type": "stream",
          "name": "stdout",
          "text": [
            "                                    start_date   end_date  number\n",
            "Facility Name                                                    \n",
            "BARNES JEWISH HOSPITAL              2015-04-01 2018-06-30  131313\n",
            "BARNES-JEWISH ST PETERS HOSPITAL    2015-04-01 2018-06-30   15668\n",
            "BARNES-JEWISH WEST COUNTY HOSPITAL  2015-04-01 2018-06-30    9622\n",
            "BATES COUNTY MEMORIAL HOSPITAL      2015-07-01 2018-06-30    3117\n",
            "BELTON REGIONAL MEDICAL CENTER      2015-04-01 2018-06-30    9270\n",
            "...                                        ...        ...     ...\n",
            "TRUMAN MEDICAL CENTER LAKEWOOD      2015-04-01 2018-06-30    4297\n",
            "UNIVERSITY OF MISSOURI HEALTH CARE  2015-04-01 2018-06-30   56493\n",
            "WASHINGTON COUNTY MEMORIAL HOSPITAL 2015-07-01 2018-06-30     220\n",
            "WESTERN MISSOURI MEDICAL CENTER     2015-04-01 2018-06-30    7254\n",
            "WRIGHT MEMORIAL HOSPITAL            2015-07-01 2018-06-30     198\n",
            "\n",
            "[108 rows x 3 columns]\n"
          ]
        }
      ]
    },
    {
      "cell_type": "code",
      "execution_count": 31,
      "metadata": {
        "id": "RfHo_bxaCEjK"
      },
      "outputs": [],
      "source": [
        "assert(mo_summary['number'].sum() == 1766908)\n",
        "assert(mo_summary['start_date'].min() == pd.Timestamp(2015,4,1))\n",
        "assert(mo_summary['end_date'].max() == pd.Timestamp(2018,6,30))\n",
        "assert(mo_summary.shape == (108,3))\n",
        "assert(mo_summary.loc['BARNES JEWISH HOSPITAL'].number == 131313)\n",
        "assert(mo_summary.loc['BOONE HOSPITAL CENTER'].number == 63099)"
      ]
    },
    {
      "cell_type": "markdown",
      "metadata": {
        "id": "zfGC3qSTCEjL"
      },
      "source": [
        "---\n",
        "\n",
        "### 47.2 Planning your final project\n",
        "\n",
        "You should be thinking about the things we've been learning and how you can apply them to your final project.  Use the rubric to help guid your thinking and then answer the questions below.  This is meant as a guide to help you think through what you will do."
      ]
    },
    {
      "cell_type": "markdown",
      "metadata": {
        "id": "kpKgM_NdCEjL"
      },
      "source": [
        "#### A) Data Access\n",
        "\n",
        "Your project should include data from at least three distinct types of sources.  For example: AWS S3, Relational Databases, Internet, Web Services, local files.  List what data sources you're planning to use."
      ]
    },
    {
      "cell_type": "markdown",
      "metadata": {
        "id": "SiXRsvTxCEjL"
      },
      "source": [
        "**Double-click to enter your answer**\n",
        "\n",
        "https://www.kaggle.com/datasets/hhs/health-insurance-marketplace ,\n",
        "https://healthdata.gov/Hospital/COVID-19-Reported-Patient-Impact-and-Hospital-Capa/anag-cw7u ,\n",
        "https://beta.healthdata.gov/api/views/ktvb-wm9h/rows.json?accessType=DOWNLOAD\n"
      ]
    },
    {
      "cell_type": "markdown",
      "metadata": {
        "id": "mieJXcHCCEjL"
      },
      "source": [
        "#### B. Data Formats\n",
        "\n",
        "Your project should include data that comes in different file formats.  For example: HL7, EDI, HTML, CSV, Excel, JSON, XML.  List what data formats you're planning to use."
      ]
    },
    {
      "cell_type": "markdown",
      "metadata": {
        "id": "IDGfgFdRCEjL"
      },
      "source": [
        "In my final project,I will use three different data formats:CSV,JSON, and HTML.Each format plays a crucial role in the data handling and analysis process.I will use CSV files to effectively store and manage structured tabular data.This format would be useful for a dataset whose processing and analysis are simple,like statistical data,survey results,or numerical data in general.It can easily be imported and exported from various data analysis software and databases.I use JSON for my project because of its flexibility and ease of use,especially in web contexts.It is excellent for storing and transmitting structured,hierarchical data objects.Data structures that must be processed over the Internet,such as configuration data,settings,or other complex data structures,can be handled with this tool.My main tool of choice for data extraction will be HTML.I can effectively gather data by parsing HTML data from a variety of online sources.These three data formats will enable me to gather textual data, links,and other pertinent information embedded in web pages for my project and by these three formats the project will be flexible to handle a wide range of data processing and analysis requirements.\n"
      ]
    },
    {
      "cell_type": "markdown",
      "metadata": {
        "id": "F38a6fJ1CEjL"
      },
      "source": [
        "#### C. Objective\n",
        "\n",
        "What purpose would your project serve in a real work setting?  Take a couple of paragraphs to write down why this is an interesting product."
      ]
    },
    {
      "cell_type": "markdown",
      "metadata": {
        "id": "GGbuf-61CEjL"
      },
      "source": [
        "With the help of datasets like the COVID-19 Reported Patient Impact and Hospital Capacity by Facility,the United States COVID-19 Cases and Deaths by State over Time from HealthData.gov and the Health Insurance Marketplace from Kaggle,my project is well-positioned to play a significant and varied role in a real work environment,especially in the areas of public health,policy making and healthcare management.My project intends to provide full insights into the healthcare landscape during the COVID-19 epidemic by integrating and evaluating these datasets.The data from the Health Insurance Marketplace can provide useful insights into how the health insurance industry has responded to the pandemic,including changes in plan offerings,pricing methods and insurance coverage.This component of the initiative will be of special interest to health economists, policymakers and insurance companies as they deal with the financial and operational issues brought by the pandemic.The datasets relating to COVID-19 cases,deaths and hospital capacity,on the other hand,are critical for comprehending the pandemic's direct impact on healthcare facilities and public health.\n",
        "\n",
        "My project may highlight trends in COVID-19 distribution,identify hotspots that require immediate attention and estimate the impact on healthcare resources by evaluating this data.This data is crucial for hospital executives,public health officials and emergency response teams in allocating resources,organizing interventions and developing policies to successfully manage the pandemic's impact.\n",
        "\n",
        "Overall,my project is an interesting and important tool in the current global context.It not only helps to comprehend the multifaceted implications of COVID-19 on the health sector,but it also gives actionable insights that can be used to guide decision-making in the real world.My initiative is a spotlight for educated strategy and response in the midst of a global health crisis because of its ability to connect data from numerous sources into coherent,usable knowledge.\n"
      ]
    },
    {
      "cell_type": "markdown",
      "metadata": {
        "id": "ABs_KVdoCEjL"
      },
      "source": [
        "\n",
        "\n",
        "---\n",
        "\n",
        "\n",
        "\n",
        "## Submit your work via GitHub as normal\n"
      ]
    }
  ],
  "metadata": {
    "kernelspec": {
      "display_name": "Python 3",
      "language": "python",
      "name": "python3"
    },
    "language_info": {
      "codemirror_mode": {
        "name": "ipython",
        "version": 3
      },
      "file_extension": ".py",
      "mimetype": "text/x-python",
      "name": "python",
      "nbconvert_exporter": "python",
      "pygments_lexer": "ipython3",
      "version": "3.9.16"
    },
    "colab": {
      "provenance": []
    }
  },
  "nbformat": 4,
  "nbformat_minor": 0
}