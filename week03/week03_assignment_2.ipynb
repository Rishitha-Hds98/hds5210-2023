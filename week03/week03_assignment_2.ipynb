{
  "cells": [
    {
      "cell_type": "markdown",
      "metadata": {
        "nbgrader": {
          "grade": false,
          "grade_id": "intro",
          "locked": true,
          "schema_version": 1,
          "solution": false
        },
        "id": "VLE7QCC2pu3d"
      },
      "source": [
        "# Week 3 Exercises\n",
        "\n",
        "See: _McKinney 2.3_ and [Python Documentation](https://docs.python.org/3/tutorial/controlflow.html) section 4 on flow control.\n",
        "\n",
        "\n",
        "**At the begining of the semester, all of the workshop programming exercises will be structured a specific way to make it easier to verify for yourself that you're on the right track as well as easier for me to do a first pass on automated grading.  The structure of each question will require you to write a function using Python code. Don't worry that we haven't talked about functions yet. Just edit the code between** `### BEGIN SOLUTION` and `### END SOLUTION` **as shown in the example below.**\n"
      ]
    },
    {
      "cell_type": "markdown",
      "metadata": {
        "id": "njzVUpLvpu3j"
      },
      "source": [
        "**WHAT I PROVIDE:**\n",
        "```\n",
        "def some_function(parameter1, parameter2):\n",
        "\n",
        "   ### BEGIN SOLUTION\n",
        "   x = -1\n",
        "   ### END SOLUTION\n",
        "   \n",
        "   return x\n",
        "```\n",
        "\n",
        "**WHAT YOU SHOULD DO:** Just change the parameter names (if you feel you need to) and the calculations between `### BEGIN SOLUTION` and `### END SOLUTION`.  This is just a made up example.\n",
        "```\n",
        "def some_function(a, b):\n",
        "\n",
        "   ### BEGIN SOLUTION\n",
        "   temp = a + b\n",
        "   x = temp / a * b\n",
        "   ### END SOLUTION\n",
        "   \n",
        "   return x\n",
        "```\n"
      ]
    },
    {
      "cell_type": "markdown",
      "metadata": {
        "id": "iHBzvufqpu3k"
      },
      "source": [
        "---\n",
        "---\n",
        "\n",
        "**Below each programming exercise are some tests (`assertions`) that verify your code is working correctly.  If any assertions fail, you know that something isnt' right with your code, but having all assertions pass doesn't necessarily mean your code is perfect, yet. You should also create your own tests to make sure your code is correct.**\n",
        "\n",
        "**For now, please don't change any function names**"
      ]
    },
    {
      "cell_type": "markdown",
      "metadata": {
        "id": "SjPWSYkQpu3l"
      },
      "source": [
        "### 14.1 Difference in rate per 1,000\n",
        "\n",
        "Often in public health, we report metrics as a number per 1,000 or per 1,000,000 in population. The purpose of that is to normalize the numbers between area of larger and smaller populations.\n",
        "\n",
        "Below, we have a function already built to calculate teh different in rate per 1,000 in two different regions.  The function normalizes them and then prints out a message describing their difference."
      ]
    },
    {
      "cell_type": "code",
      "execution_count": 1,
      "metadata": {
        "id": "mQshwZknpu3m"
      },
      "outputs": [],
      "source": [
        "def diff_in_rate_normalized(count_a, total_a, count_b, total_b):\n",
        "    \"\"\"(int,int,int,int) -> str\n",
        "    * count_a is the number of occurences in area A\n",
        "    * total_a is the total population in area A\n",
        "    * count_b is the number of occurences in area B\n",
        "    * total_b is the total population in area B\n",
        "\n",
        "    This function returns a string describing how A and B compare in terms of occurence rates per 1,000 population.\"\"\"\n",
        "\n",
        "    rate_a = count_a / total_a * 1000\n",
        "    rate_b = count_b / total_b * 1000\n",
        "\n",
        "    if rate_a == rate_b:\n",
        "        msg = \"The rate in A and the rate in B are the same ({}).\".format(rate_a)\n",
        "    elif rate_a > rate_b:\n",
        "        msg = \"The rate in A ({}) is greater than the rate in B ({}).\".format(rate_a, rate_b)\n",
        "    else:\n",
        "        msg = \"The rate in A ({}) is less than the rate in B ({})\".format(rate_a, rate_b)\n",
        "\n",
        "    return msg"
      ]
    },
    {
      "cell_type": "code",
      "execution_count": 2,
      "metadata": {
        "id": "zd9RUcvOpu3o",
        "outputId": "2e732e1c-fbc4-489f-9d7a-adc85a645e1b",
        "colab": {
          "base_uri": "https://localhost:8080/"
        }
      },
      "outputs": [
        {
          "output_type": "stream",
          "name": "stdout",
          "text": [
            "The rate in A (1.0) is less than the rate in B (1.5)\n"
          ]
        }
      ],
      "source": [
        "rate_covid_testing = diff_in_rate_normalized(1,1000,15,10000)\n",
        "print(rate_covid_testing)"
      ]
    },
    {
      "cell_type": "code",
      "execution_count": 3,
      "metadata": {
        "id": "gSLtRS5ppu3q",
        "outputId": "552409ad-7888-45a2-f094-9d44d651f061",
        "colab": {
          "base_uri": "https://localhost:8080/",
          "height": 35
        }
      },
      "outputs": [
        {
          "output_type": "execute_result",
          "data": {
            "text/plain": [
              "'The rate in A and the rate in B are the same (3.0).'"
            ],
            "application/vnd.google.colaboratory.intrinsic+json": {
              "type": "string"
            }
          },
          "metadata": {},
          "execution_count": 3
        }
      ],
      "source": [
        "diff_in_rate_normalized(3,1000,30,10000)"
      ]
    },
    {
      "cell_type": "markdown",
      "metadata": {
        "id": "85OSw9pKpu3q"
      },
      "source": [
        "### 14.2 Trimming outliers\n",
        "\n",
        "While it works well in most cases, in practice, this may not truly make numbers comparable between extremely large population centers (e.g. New York City at 8.5 million) and very small rural areas (e.g. Meeteese, WY at 459 people).\n",
        "\n",
        "Let's take that function and make some adjustments.  If the total population of either A or B is more than 100 times larger than the other, then we want to return a different message.  That is, if the populations are more than two orders of magnitude different, then we shouldn't try to compare them."
      ]
    },
    {
      "cell_type": "code",
      "execution_count": 4,
      "metadata": {
        "id": "zBipqftCpu3r"
      },
      "outputs": [],
      "source": [
        "def diff_in_rate_normalized(count_a, total_a, count_b, total_b):\n",
        "    \"\"\"(int,int,int,int) -> str\n",
        "    * count_a is the number of occurences in area A\n",
        "    * total_a is the total population in area A\n",
        "    * count_b is the number of occurences in area B\n",
        "    * total_b is the total population in area B\n",
        "\n",
        "    This function returns a string describing how A and B compare in terms of occurence rates per 1,000 population.\n",
        "\n",
        "    If total_a / total_b > 100 OR total_b / total_a > 100 then we'll return a message saying the two can't be compared.\n",
        "    \"The total populations in A and B are so different that they can't be compared.\"\n",
        "    \"\"\"\n",
        "    rate_a = count_a/total_a *1000\n",
        "    rate_b = count_b/total_b *1000\n",
        "\n",
        "    if total_a/total_b> 100 or total_b/total_a > 100:\n",
        "      msg = \"The total populations in A and B are so different that they can't be compared.\"\n",
        "    else:\n",
        "      # Compare occurrence rates\n",
        "      if rate_a == rate_b:\n",
        "          msg = \"The rate in A and the rate in B are the same ({}).\".format(rate_a)\n",
        "      elif rate_a > rate_b:\n",
        "        msg =\"The rate in A ({}) is greater than the rate in B({}).\" .format(rate_a,rate_b)\n",
        "      else:\n",
        "        msg = \"The rate in A ({}) is less than the rate in B ({}).\".format(rate_a, rate_b)\n",
        "\n",
        "\n",
        "    return msg"
      ]
    },
    {
      "cell_type": "code",
      "execution_count": 5,
      "metadata": {
        "id": "b0nTiYzPpu3s",
        "outputId": "cbebde4f-a1c6-4c18-b3ee-6d5f83390977",
        "colab": {
          "base_uri": "https://localhost:8080/",
          "height": 35
        }
      },
      "outputs": [
        {
          "output_type": "execute_result",
          "data": {
            "text/plain": [
              "'The rate in A (10.893246187363834) is greater than the rate in B(3.5294117647058827).'"
            ],
            "application/vnd.google.colaboratory.intrinsic+json": {
              "type": "string"
            }
          },
          "metadata": {},
          "execution_count": 5
        }
      ],
      "source": [
        "diff_in_rate_normalized(5, 459, 30, 8500)"
      ]
    },
    {
      "cell_type": "markdown",
      "metadata": {
        "nbgrader": {
          "grade": false,
          "grade_id": "bmi",
          "locked": true,
          "schema_version": 1,
          "solution": false
        },
        "id": "8eOYDdXspu3s"
      },
      "source": [
        "### 14.3 LACE Score\n",
        "There is a simple readmission index called the LACE Score: https://www.hindawi.com/journals/bmri/2015/169870/tab1/\n",
        "\n",
        "Use this documentation to create a function that can compute LACE scores based on the 4 input parameters.  Below is the function signature and documentation that you start with."
      ]
    },
    {
      "cell_type": "code",
      "execution_count": 9,
      "metadata": {
        "nbgrader": {
          "grade": false,
          "grade_id": "bmi-answer",
          "locked": false,
          "schema_version": 1,
          "solution": true
        },
        "id": "hAAx9JRLpu3t"
      },
      "outputs": [],
      "source": [
        "def LACE(length_of_stay, acute_flag, charlson, ed_visits):\n",
        "    \"\"\"(int, bool, int, int) -> int\n",
        "    This function uses the logic from https://www.hindawi.com/journals/bmri/2015/169870/tab1/\n",
        "    to compute the LACE score for this patient.\n",
        "\n",
        "    >>> LACE(4, False, 1, 0)\n",
        "    5\n",
        "\n",
        "    >>> LACE(4, True, 4, 7)\n",
        "    16\n",
        "\n",
        "    \"\"\"\n",
        "\n",
        "    score = 0\n",
        "    if length_of_stay >= 14 :\n",
        "      score += 7\n",
        "    elif length_of_stay >=7 and length_of_stay <=13 :\n",
        "      score += 5\n",
        "    elif length_of_stay >=4 and length_of_stay <=6 :\n",
        "      score += 4\n",
        "    elif length_of_stay == 3 :\n",
        "      score += 3\n",
        "    elif length_of_stay == 2 :\n",
        "      score += 2\n",
        "    elif length_of_stay == 1 :\n",
        "      score += 1\n",
        "\n",
        "    if acute_flag :\n",
        "      score += 3\n",
        "\n",
        "    if charlson >=4 :\n",
        "      score += 5\n",
        "    elif charlson == 3 :\n",
        "      score += 3\n",
        "    elif charlson == 2 :\n",
        "      score += 2\n",
        "    elif charlson == 1 :\n",
        "      score += 1\n",
        "    elif charlson == 0 :\n",
        "      score += 0\n",
        "\n",
        "    if ed_visits >= 4 :\n",
        "      score += 4\n",
        "    elif ed_visits == 3 :\n",
        "      score += 3\n",
        "    elif ed_visits ==2:\n",
        "      score ==2\n",
        "    elif ed_visits == 1:\n",
        "      score ==1\n",
        "    elif ed_visits == 0 :\n",
        "      score += 0\n",
        "\n",
        "\n",
        "\n",
        "    return score"
      ]
    },
    {
      "cell_type": "code",
      "execution_count": 10,
      "metadata": {
        "nbgrader": {
          "grade": true,
          "grade_id": "bmi-test",
          "locked": true,
          "points": 10,
          "schema_version": 1,
          "solution": false
        },
        "id": "tsVod2vxpu3u"
      },
      "outputs": [],
      "source": [
        "assert LACE(4, False, 1, 0) == 5\n",
        "assert LACE(4, True, 4, 7) == 16"
      ]
    },
    {
      "cell_type": "code",
      "execution_count": 36,
      "metadata": {
        "id": "h0jyv5hTpu3v",
        "outputId": "c2cb1e31-1692-4e59-cb93-4a21f0d3196f",
        "colab": {
          "base_uri": "https://localhost:8080/"
        }
      },
      "outputs": [
        {
          "output_type": "execute_result",
          "data": {
            "text/plain": [
              "10"
            ]
          },
          "metadata": {},
          "execution_count": 36
        }
      ],
      "source": [
        "LACE(3,False,3,5)"
      ]
    },
    {
      "cell_type": "markdown",
      "metadata": {
        "nbgrader": {
          "grade": false,
          "grade_id": "weight",
          "locked": true,
          "schema_version": 1,
          "solution": false
        },
        "id": "igGOD0nepu3v"
      },
      "source": [
        "### 14.4 Care Management Criteria\n",
        "\n",
        "Care managers use LACE as part of the criteria for assigning a care coodinator to a patient who has been recently discharged. If the score is above 10, then a care coordinator will be assigned. The other criteria they use is if the patient has been discharged with a diagnosis of CHF or COPD.  If the diagnosis field has CHF or COPD in it, then the patient will have a care coordinator assigned.\n",
        "\n",
        "For this exercise, write another function that takes the same inputs as LACE() plus another diagnosis parameter, and return True or False depending on if the paient needs a care coordinator.\n",
        "\n",
        "**NOTE** Pay attention to the fact that the order of parameters in this function definition are not the same as the order they were in the LACE score.  "
      ]
    },
    {
      "cell_type": "code",
      "execution_count": 22,
      "metadata": {
        "nbgrader": {
          "grade": false,
          "grade_id": "weight-answer",
          "locked": false,
          "schema_version": 1,
          "solution": true
        },
        "id": "GXCQaB8xpu3w"
      },
      "outputs": [],
      "source": [
        "from IPython.core.crashhandler import crash_handler_lite\n",
        "from itertools import accumulate\n",
        "from IPython.core.inputtransformer2 import leading_empty_lines\n",
        "def assign_care_coordinator(diagnosis_cd, ed_visits, length_of_stay, acute_flag, charlson):\n",
        "  if diagnosis_cd =='CHF' or diagnosis_cd =='COPD':\n",
        "        return True\n",
        "  score = 0\n",
        "  if length_of_stay >= 14 :\n",
        "        score += 7\n",
        "  elif length_of_stay >= 7 and length_of_stay <= 13:\n",
        "        score += 5\n",
        "  elif length_of_stay >=4 and length_of_stay <=6:\n",
        "        score += 4\n",
        "  elif length_of_stay == 3:\n",
        "        score += 3\n",
        "  elif length_of_stay == 2:\n",
        "        score += 2\n",
        "  elif length_of_stay ==1:\n",
        "        score += 1\n",
        "\n",
        "  if acute_flag:\n",
        "        score += 3\n",
        "\n",
        "  if charlson >=4:\n",
        "        score += 5\n",
        "  elif charlson ==3:\n",
        "        score +=3\n",
        "  elif charlson == 2:\n",
        "        score += 2\n",
        "  elif charlson == 1:\n",
        "        score += 1\n",
        "  elif charlson == 0:\n",
        "        score += 0\n",
        "\n",
        "  if ed_visits >= 4:\n",
        "        score += 4\n",
        "  elif ed_visits == 3:\n",
        "        score += 3\n",
        "  elif ed_visits ==2:\n",
        "        score += 2\n",
        "  elif ed_visits == 1:\n",
        "        score +=1\n",
        "  elif ed_visits == 0:\n",
        "        score +=0\n",
        "\n",
        "  if (score>10 ): return True\n",
        "  else: return False;\n",
        "\n",
        "\n",
        "\n",
        ""
      ]
    },
    {
      "cell_type": "code",
      "execution_count": 23,
      "metadata": {
        "nbgrader": {
          "grade": true,
          "grade_id": "weight-tests",
          "locked": true,
          "points": 5,
          "schema_version": 1,
          "solution": false
        },
        "id": "rqHQYJPApu3x"
      },
      "outputs": [],
      "source": [
        "assert assign_care_coordinator('None', 0, 4, False, 1) == False\n",
        "assert assign_care_coordinator('CHF', 0, 4, False, 1) == True\n",
        "assert assign_care_coordinator('COPD', 0, 4, False, 1) == True\n",
        "assert assign_care_coordinator('None', 7, 4, True, 4) == True\n",
        "assert assign_care_coordinator('CHF', 7, 4, True, 4) == True"
      ]
    },
    {
      "cell_type": "code",
      "execution_count": 24,
      "metadata": {
        "id": "9Rbi3rawpu3y",
        "outputId": "17a2c29d-271a-4053-d5ae-fa00a6fda41a",
        "colab": {
          "base_uri": "https://localhost:8080/"
        }
      },
      "outputs": [
        {
          "output_type": "execute_result",
          "data": {
            "text/plain": [
              "False"
            ]
          },
          "metadata": {},
          "execution_count": 24
        }
      ],
      "source": [
        "assign_care_coordinator('None',4,0,True,1)"
      ]
    },
    {
      "cell_type": "code",
      "source": [
        "assign_care_coordinator('CHF',1,3,False,2)"
      ],
      "metadata": {
        "id": "e31UuHufEBR2",
        "outputId": "37b619ca-7e71-4c6f-e9e2-355e82a43d5a",
        "colab": {
          "base_uri": "https://localhost:8080/"
        }
      },
      "execution_count": 25,
      "outputs": [
        {
          "output_type": "execute_result",
          "data": {
            "text/plain": [
              "True"
            ]
          },
          "metadata": {},
          "execution_count": 25
        }
      ]
    },
    {
      "cell_type": "code",
      "source": [
        "assign_care_coordinator('COPD',3,4,True,2)"
      ],
      "metadata": {
        "id": "CZ_QdSgpEJpq",
        "outputId": "2234cdeb-12ee-475c-bc6a-75abe4e12505",
        "colab": {
          "base_uri": "https://localhost:8080/"
        }
      },
      "execution_count": 26,
      "outputs": [
        {
          "output_type": "execute_result",
          "data": {
            "text/plain": [
              "True"
            ]
          },
          "metadata": {},
          "execution_count": 26
        }
      ]
    },
    {
      "cell_type": "markdown",
      "source": [],
      "metadata": {
        "id": "qGhxcU9IEAuL"
      }
    },
    {
      "cell_type": "markdown",
      "metadata": {
        "id": "dICKhuKrpu3z"
      },
      "source": [
        "### 14.5 qCSI COVID-19 Severity Index\n",
        "\n",
        "See: https://www.mdcalc.com/quick-covid-19-severity-index-qcsi#evidence\n",
        "\n",
        "Calculate the total risk score as per the point values assigned to respiratory rate, pulse oximetry, and O2 flow rate.  Then calculate and return the Risk Level.\n",
        "\n",
        "In addition to the rules provided at the link above, also add the following checks for valid values:\n",
        "* If `respiratory_rate <= 0` then return _invalid respiratory rate_\n",
        "* If `pulse_ox <= 0` then return _invalid pulse ox_\n",
        "* If `pulse_ox > 100` then return _invalid pulse ox_\n",
        "* If `os_flow <= 0` then return _invalid O2 flow rate_"
      ]
    },
    {
      "cell_type": "code",
      "execution_count": 28,
      "metadata": {
        "id": "VSWc7afmpu3z"
      },
      "outputs": [],
      "source": [
        "def qcsi(respiratory_rate, pulse_ox, o2_flow):\n",
        "    \"\"\"(int, int, int) -> str\n",
        "    * respiratory_rate is an integer value\n",
        "    * pulse_ox is an integer value (e.g. 30 means 30%)\n",
        "    * o2_flow is an integer value\n",
        "    \"\"\"\n",
        "\n",
        "    ### BEGIN SOLUTION\n",
        "    if respiratory_rate > 28:\n",
        "      score_1 = 2\n",
        "    elif respiratory_rate >= 23 and respiratory_rate <= 28:\n",
        "      score_1 = 1\n",
        "    elif respiratory_rate <= 22 :\n",
        "      score_1 = 0\n",
        "\n",
        "    if pulse_ox <= 88:\n",
        "      score_2 = 5\n",
        "    elif pulse_ox >=89 and pulse_ox <= 92:\n",
        "      score_2 = 2\n",
        "    elif pulse_ox >92 :\n",
        "      score_2 = 0\n",
        "\n",
        "    if o2_flow >=5 and o2_flow <=6:\n",
        "      score_3 = 5\n",
        "    elif o2_flow >=3 and o2_flow <=4 :\n",
        "      score_3 = 4\n",
        "    elif o2_flow <=2:\n",
        "      score_3 = 0\n",
        "\n",
        "    Score = score_1 + score_2 + score_3\n",
        "\n",
        "    if(respiratory_rate <= 0):\n",
        "      risk_level= \"invalid respiratory rate\"\n",
        "    elif(pulse_ox <= 0 or pulse_ox > 100):\n",
        "      risk_level= \"invalid pulse ox\"\n",
        "    elif(o2_flow <=0):\n",
        "      risk_level= \"invalid o2 flow rate\"\n",
        "    elif Score <= 3 :\n",
        "      risk_level = \"low\"\n",
        "    elif Score >= 4 and Score < 6 :\n",
        "      risk_level = \"low intermediate\"\n",
        "    elif Score >= 7 and Score < 9 :\n",
        "      risk_level = \"high intermediate\"\n",
        "    elif Score >= 10 and Score < 12 :\n",
        "      risk_level = \"high\"\n",
        "\n",
        "    return risk_level\n",
        "    ### END SOLUTION\n",
        ""
      ]
    },
    {
      "cell_type": "code",
      "execution_count": 34,
      "metadata": {
        "id": "bOnL19yLpu30"
      },
      "outputs": [],
      "source": [
        "assert (qcsi(29, 95, 1) == 'low')\n",
        "assert (qcsi(20, 93, 1) == 'low')\n",
        "assert (qcsi(29, 88, 1) == 'high intermediate')\n",
        "assert (qcsi(29, 88, 4) == 'high')\n",
        "assert (qcsi(30, 90, 1) == 'low intermediate')\n",
        "assert (qcsi(28, 92, -1) == 'invalid o2 flow rate')\n",
        "assert (qcsi(22, 0, 4) == 'invalid pulse ox')\n",
        "assert (qcsi(0, 97, 2) == 'invalid respiratory rate')"
      ]
    },
    {
      "cell_type": "code",
      "source": [
        "qcsi(25,50,4)"
      ],
      "metadata": {
        "id": "E4WtRQkvJB-M",
        "outputId": "c32e253d-87fb-40e8-8ac4-14ae62995f8c",
        "colab": {
          "base_uri": "https://localhost:8080/",
          "height": 35
        }
      },
      "execution_count": 35,
      "outputs": [
        {
          "output_type": "execute_result",
          "data": {
            "text/plain": [
              "'high'"
            ],
            "application/vnd.google.colaboratory.intrinsic+json": {
              "type": "string"
            }
          },
          "metadata": {},
          "execution_count": 35
        }
      ]
    },
    {
      "cell_type": "markdown",
      "metadata": {
        "id": "uAnG9ugFpu31"
      },
      "source": [
        "---\n",
        "\n",
        "## Check your work above\n",
        "\n",
        "If you didn't get them all correct, take a few minutes to think through those that aren't correct.\n",
        "\n",
        "\n",
        "## Submitting Your Work\n",
        "\n",
        "In order to submit your work, you'll need to save this notebook file back to GitHub.  To do that in Google Colab:\n",
        "1. File -> Save a Copy in GitHub\n",
        "2. Make sure your HDS5210 repository is selected\n",
        "3. Make sure the file name includes the week number like this: `week03/week03_assignment_2.ipynb`\n",
        "4. Add a commit message that means something\n",
        "\n",
        "**Be sure week names are lowercase and use a two digit week number!!**\n",
        "\n",
        "**Be sure you use the same file name provided by the instructor!!**\n",
        "\n"
      ]
    },
    {
      "cell_type": "markdown",
      "metadata": {
        "id": "lMrPlsQqpu31"
      },
      "source": [
        "---"
      ]
    }
  ],
  "metadata": {
    "celltoolbar": "Create Assignment",
    "kernelspec": {
      "display_name": "Python 3",
      "language": "python",
      "name": "python3"
    },
    "language_info": {
      "codemirror_mode": {
        "name": "ipython",
        "version": 3
      },
      "file_extension": ".py",
      "mimetype": "text/x-python",
      "name": "python",
      "nbconvert_exporter": "python",
      "pygments_lexer": "ipython3",
      "version": "3.6.7"
    },
    "colab": {
      "provenance": []
    }
  },
  "nbformat": 4,
  "nbformat_minor": 0
}