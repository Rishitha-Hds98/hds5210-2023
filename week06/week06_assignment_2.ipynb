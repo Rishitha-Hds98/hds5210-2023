{
  "cells": [
    {
      "cell_type": "markdown",
      "metadata": {
        "nbgrader": {
          "grade": false,
          "grade_id": "intro",
          "locked": true,
          "schema_version": 1,
          "solution": false
        },
        "id": "g-lXg0IpEDmX"
      },
      "source": [
        "# Week 6 Exercises\n",
        "\n",
        "_McKinney 6.1_\n",
        "\n",
        "There are multiple ways to solve the problems below.  You can use any one of several approaches.  For example, you can read CSV files using Pandas or the csv module.  Your score won't depend on which modules you choose to use unless explicitly noted below, but your programming style will still matter."
      ]
    },
    {
      "cell_type": "markdown",
      "metadata": {
        "nbgrader": {
          "grade": false,
          "grade_id": "q1-description",
          "locked": true,
          "schema_version": 1,
          "solution": false
        },
        "id": "ZHpBFJQ2EDma"
      },
      "source": [
        "### 30.1 List of Allergies\n",
        "\n",
        "In this GitHub repository, there is a file called `allergies.json` that contains a list of patient allergies.  You will need to download this [file from here](https://raw.githubusercontent.com/paulboal/hds5210-2023/main/week06/allergies.json) and then upload it into Google Colab to run these examples. It is taken from sample data provided by the EHR vendor, Epic, here: https://open.epic.com/Clinical/Allergy\n",
        "\n",
        "Take some time to look at the structure of the file.  You can open it directly in Jupyter by clicking the _Home_ icon, then the _from_instructor_ folder, and then the _data_ folder.\n",
        "\n",
        "Within the file, you'll see that it is a dictionary with many items in it.  One of those items is called `entry` and that item is a list of things.  You can tell that because the item name is immediately followed by an opening square bracket, signifying the start of a list.  It's line 11 of the file: `  \"entry\": [`\n",
        "\n",
        "Write a function named `allergy_count(json_file)` that takes as one parameter the name of the JSON file and returns an integer number of entries in that file.  Your function should open the file, read the json into a Python object, and return how many items there are in the list of `entry`s."
      ]
    },
    {
      "cell_type": "code",
      "execution_count": 30,
      "metadata": {
        "id": "Y1NPdN1AEDmb"
      },
      "outputs": [],
      "source": [
        "import json\n",
        "ALLERGY_FILE=\"/content/sample_data/allergies.json\""
      ]
    },
    {
      "cell_type": "code",
      "execution_count": 154,
      "metadata": {
        "nbgrader": {
          "grade": false,
          "grade_id": "q1-answer",
          "locked": false,
          "schema_version": 1,
          "solution": true
        },
        "id": "PXSZCQd8EDmc"
      },
      "outputs": [],
      "source": [
        "# Put your solution here\n",
        "\n",
        "def allergy_count(ALLERGY_FILE):\n",
        "\n",
        "    \"\"\"\n",
        "    (object) => int\n",
        "    This function takes one parameter as an object and returns an integer number.\n",
        "    Return empty if \"entry\" is not present or not a list\n",
        "\n",
        "    \"\"\"\n",
        "    with open(ALLERGY_FILE,'r') as file:\n",
        "              data = json.load(file)\n",
        "              if \"entry\" in data and isinstance(data[\"entry\"], list):\n",
        "                  return len(data[\"entry\"])\n",
        "              else:\n",
        "                  return \"empty\"  # Return 0 if \"entry\" is not present or not a list\n",
        "\n",
        "\n"
      ]
    },
    {
      "cell_type": "code",
      "execution_count": 155,
      "metadata": {
        "id": "zkGj2rX6EDmd",
        "outputId": "3d99c5e2-ae0c-46b7-ad8e-1afc3e04d1ca",
        "colab": {
          "base_uri": "https://localhost:8080/"
        }
      },
      "outputs": [
        {
          "output_type": "execute_result",
          "data": {
            "text/plain": [
              "4"
            ]
          },
          "metadata": {},
          "execution_count": 155
        }
      ],
      "source": [
        "allergy_count(ALLERGY_FILE)"
      ]
    },
    {
      "cell_type": "code",
      "execution_count": 156,
      "metadata": {
        "nbgrader": {
          "grade": true,
          "grade_id": "q1-tests",
          "locked": true,
          "points": 5,
          "schema_version": 1,
          "solution": false
        },
        "id": "4qa0yNj4EDmd"
      },
      "outputs": [],
      "source": [
        "assert type(allergy_count(ALLERGY_FILE)) == int\n",
        "assert allergy_count(ALLERGY_FILE) == 4"
      ]
    },
    {
      "cell_type": "markdown",
      "metadata": {
        "id": "3QF7D8BIEDmd"
      },
      "source": [
        "### 30.2 Number of Patients\n",
        "\n",
        "If you dig a little bit deaper into this list of allergies, you'll see that each result has a patient associated with it.  Create a funcation called `patient_count(json_file)` that will count how many unique patients we have in this JSON structure.  "
      ]
    },
    {
      "cell_type": "code",
      "execution_count": 124,
      "metadata": {
        "id": "X632XrpLEDme"
      },
      "outputs": [],
      "source": [
        "def patient_count(ALLERGY_FILE):\n",
        "\n",
        "  \"\"\"\n",
        "  (object) => int\n",
        "  This fucntion will count  the unique patients  that are present in the json object.\n",
        "\n",
        "  \"\"\"\n",
        "\n",
        "  with open(ALLERGY_FILE, 'r') as file:\n",
        "            data = json.load(file)\n",
        "            unique_patients = set()\n",
        "\n",
        "            if \"entry\" in data and isinstance(data[\"entry\"], list):\n",
        "                for entry in data[\"entry\"]:\n",
        "                    if \"resource\" in entry and \"patient\" in entry[\"resource\"] and \"display\" in entry[\"resource\"][\"patient\"]:\n",
        "                        patient_name = entry[\"resource\"][\"patient\"][\"display\"]\n",
        "                        unique_patients.add(patient_name)\n",
        "\n",
        "  return len(unique_patients)\n"
      ]
    },
    {
      "cell_type": "code",
      "execution_count": 125,
      "metadata": {
        "id": "sfOCHa_6EDme",
        "outputId": "110061b5-70c3-4cfd-eede-0d4185351ab4",
        "colab": {
          "base_uri": "https://localhost:8080/"
        }
      },
      "outputs": [
        {
          "output_type": "execute_result",
          "data": {
            "text/plain": [
              "2"
            ]
          },
          "metadata": {},
          "execution_count": 125
        }
      ],
      "source": [
        "patient_count(ALLERGY_FILE)"
      ]
    },
    {
      "cell_type": "code",
      "execution_count": 126,
      "metadata": {
        "id": "YuHPH1c_EDmf"
      },
      "outputs": [],
      "source": [
        "assert type(patient_count(ALLERGY_FILE)) == int\n",
        "assert patient_count(ALLERGY_FILE) == 2"
      ]
    },
    {
      "cell_type": "markdown",
      "metadata": {
        "id": "ixhp46wpEDmf"
      },
      "source": [
        "### 30.3 How Many Allergies per Patient\n",
        "\n",
        "Although each entry is a separate allergy, several of them are for the same patient.  Write a function called `allergy_per_patient(json_file)` that counts up how many allergies each patient has.\n"
      ]
    },
    {
      "cell_type": "code",
      "execution_count": 145,
      "metadata": {
        "id": "gY3FSodIEDmf"
      },
      "outputs": [],
      "source": [
        "# Put your solution here\n",
        "\n",
        "def allergy_per_patient(ALLERGY_FILE):\n",
        "  \"\"\"\n",
        "\n",
        "  (jsonObject) ==> dict\n",
        "  This function is to Count the number of allergies per patient in an allergies JSON file.\n",
        "\n",
        "  It Returns:\n",
        "     dict: A dictionary where keys are patient names and values are the counts of allergies for each patient.\n",
        "\n",
        "\n",
        "  \"\"\"\n",
        "\n",
        "  with open(ALLERGY_FILE, 'r') as file:\n",
        "        data = json.load(file)\n",
        "        allergy_counts = {}  # Dictionary to store allergy counts per patient\n",
        "\n",
        "        if \"entry\" in data and isinstance(data[\"entry\"], list):\n",
        "            for entry in data[\"entry\"]:\n",
        "                if \"resource\" in entry and \"patient\" in entry[\"resource\"]:\n",
        "                    patient_name = entry[\"resource\"][\"patient\"][\"display\"]\n",
        "\n",
        "                    # Check if the patient_name is already in the dictionary\n",
        "                    if patient_name in allergy_counts:\n",
        "                        allergy_counts[patient_name] += 1\n",
        "                    else:\n",
        "                        allergy_counts[patient_name] = 1\n",
        "            print(allergy_counts)  # Print the dictionary for debugging\n",
        "        return allergy_counts\n",
        "\n",
        "\n"
      ]
    },
    {
      "cell_type": "code",
      "execution_count": 146,
      "metadata": {
        "id": "Sc_XcDZJEDmf",
        "outputId": "06510c71-14a1-4714-aa9e-84425cdbc3ea",
        "colab": {
          "base_uri": "https://localhost:8080/"
        }
      },
      "outputs": [
        {
          "output_type": "stream",
          "name": "stdout",
          "text": [
            "{'Jason Argonaut': 3, 'Paul Boal': 1}\n"
          ]
        },
        {
          "output_type": "execute_result",
          "data": {
            "text/plain": [
              "{'Jason Argonaut': 3, 'Paul Boal': 1}"
            ]
          },
          "metadata": {},
          "execution_count": 146
        }
      ],
      "source": [
        "allergy_per_patient(ALLERGY_FILE)"
      ]
    },
    {
      "cell_type": "code",
      "execution_count": 147,
      "metadata": {
        "id": "4kgeyzfYEDmg",
        "outputId": "6c385541-bea5-4083-caad-74b98011a94d",
        "colab": {
          "base_uri": "https://localhost:8080/"
        }
      },
      "outputs": [
        {
          "output_type": "stream",
          "name": "stdout",
          "text": [
            "{'Jason Argonaut': 3, 'Paul Boal': 1}\n",
            "{'Jason Argonaut': 3, 'Paul Boal': 1}\n"
          ]
        }
      ],
      "source": [
        "assert type(allergy_per_patient(ALLERGY_FILE)) == dict\n",
        "assert allergy_per_patient(ALLERGY_FILE) == {'Paul Boal': 1, 'Jason Argonaut': 3}"
      ]
    },
    {
      "cell_type": "markdown",
      "metadata": {
        "nbgrader": {
          "grade": false,
          "grade_id": "q2-question",
          "locked": true,
          "schema_version": 1,
          "solution": false
        },
        "id": "fTHofv9LEDmg"
      },
      "source": [
        "### 30.4 Patient Allergies and Reaction\n",
        "\n",
        "You'll see in the file that each of the items in the `entry` list have several other attributes including a patient name, substance text representation, and a reaction manifestation.  Create a function named `allergy_list(json_file)` that will create an output list that has patient name, allergy, and reaction for each `entry`.  The actual result you should get will be:\n",
        "\n",
        "```python\n",
        "[['Jason Argonaut', 'PENICILLIN G', 'Hives'],\n",
        " ['Paul Boal', 'PENICILLIN G', 'Bruising'],\n",
        " ['Jason Argonaut', 'SHELLFISH-DERIVED PRODUCTS', 'Itching'],\n",
        " ['Jason Argonaut', 'STRAWBERRY', 'Anaphylaxis']]\n",
        "```\n",
        "\n",
        "You'll notice that the reaction and the manifestation of that action are lists.  You only need to capture the first reaction and the first manifestation of the action.  That is, if there is a list of things, just output the first one."
      ]
    },
    {
      "cell_type": "code",
      "execution_count": 160,
      "metadata": {
        "nbgrader": {
          "grade": false,
          "grade_id": "q2-answer",
          "locked": false,
          "schema_version": 1,
          "solution": true
        },
        "id": "bn_fEZ0TEDmh"
      },
      "outputs": [],
      "source": [
        "# Put your solution here\n",
        "\n",
        "\n",
        "def allergy_list(ALLERGY_FILE):\n",
        "  \"\"\"\n",
        "  (json object)==> lists\n",
        "    Extract and compile a list of allergy information from an allergies JSON files\n",
        "\n",
        "    Returns a list of lists, where each inner list contains patient name, allergy,and first reaction (if available).\n",
        "\n",
        "    \"\"\"\n",
        "\n",
        "  with open(ALLERGY_FILE, 'r') as file:\n",
        "            data = json.load(file)\n",
        "            output_list = []\n",
        "\n",
        "            if \"entry\" in data and isinstance(data[\"entry\"], list):\n",
        "                for entry in data[\"entry\"]:\n",
        "                    if \"resource\" in entry and \"patient\" in entry[\"resource\"]:\n",
        "                        patient_name = entry[\"resource\"][\"patient\"][\"display\"]\n",
        "                        # Extract allergy and reaction information\n",
        "                        if \"substance\" in entry[\"resource\"] and \"text\" in entry[\"resource\"][\"substance\"]:\n",
        "                            allergy = entry[\"resource\"][\"substance\"][\"text\"]\n",
        "                        if \"reaction\" in entry[\"resource\"] and isinstance(entry[\"resource\"][\"reaction\"], list):\n",
        "                            first_reaction = entry[\"resource\"][\"reaction\"][0][\"manifestation\"][0][\"text\"] if len(entry[\"resource\"][\"reaction\"]) > 0 and \"manifestation\" in entry[\"resource\"][\"reaction\"][0] else None\n",
        "\n",
        "                        # Add the extracted information to the output list\n",
        "                        output_list.append([patient_name, allergy, first_reaction])\n",
        "\n",
        "            return output_list\n"
      ]
    },
    {
      "cell_type": "markdown",
      "source": [],
      "metadata": {
        "id": "6lMpUupWf-ao"
      }
    },
    {
      "cell_type": "code",
      "execution_count": 158,
      "metadata": {
        "id": "3icW_IlgEDmh",
        "outputId": "38493a72-0941-4039-ca7b-21bf74ee28ac",
        "colab": {
          "base_uri": "https://localhost:8080/"
        }
      },
      "outputs": [
        {
          "output_type": "execute_result",
          "data": {
            "text/plain": [
              "[['Jason Argonaut', 'PENICILLIN G', 'Hives'],\n",
              " ['Jason Argonaut', 'SHELLFISH-DERIVED PRODUCTS', 'Itching'],\n",
              " ['Jason Argonaut', 'STRAWBERRY', 'Anaphylaxis'],\n",
              " ['Paul Boal', 'PENICILLIN G', 'Bruising']]"
            ]
          },
          "metadata": {},
          "execution_count": 158
        }
      ],
      "source": [
        "allergy_list(ALLERGY_FILE)"
      ]
    },
    {
      "cell_type": "code",
      "execution_count": 159,
      "metadata": {
        "nbgrader": {
          "grade": true,
          "grade_id": "q2-tests",
          "locked": true,
          "points": 10,
          "schema_version": 1,
          "solution": false
        },
        "id": "eIufGT4pEDmh"
      },
      "outputs": [],
      "source": [
        "assert allergy_list(ALLERGY_FILE) == [['Jason Argonaut', 'PENICILLIN G', 'Hives'],\n",
        " ['Jason Argonaut', 'SHELLFISH-DERIVED PRODUCTS', 'Itching'],\n",
        " ['Jason Argonaut', 'STRAWBERRY', 'Anaphylaxis'],\n",
        " ['Paul Boal', 'PENICILLIN G', 'Bruising']]\n"
      ]
    },
    {
      "cell_type": "markdown",
      "metadata": {
        "nbgrader": {
          "grade": false,
          "grade_id": "q3-question",
          "locked": true,
          "schema_version": 1,
          "solution": false
        },
        "id": "bMh5K0YjEDmh"
      },
      "source": [
        "### 30.5 Allergy Reaction\n",
        "\n",
        "Write a function called `allergy_reaction(json_file,patient,substance)` that takes three parameter and returns the reaction that will happen if the patient takes the specified substance.  You can solve this, in part, by calling your `allergy_list` function inside your new `allergy_reaction` function.\n",
        "\n",
        "If the substance is not found in the allergy list, the function should return None."
      ]
    },
    {
      "cell_type": "code",
      "execution_count": 105,
      "metadata": {
        "nbgrader": {
          "grade": false,
          "grade_id": "q3-answer",
          "locked": false,
          "schema_version": 1,
          "solution": true
        },
        "id": "vwy7rTMbEDmh"
      },
      "outputs": [],
      "source": [
        "# Put your solution here\n",
        "def allergy_reaction(ALLERGY_FILE, patient, substance):\n",
        "\n",
        "  \"\"\"\n",
        "    (jsonobject,str,str) ==>  String\n",
        "    Retrieve the reaction associated with a specific allergy for a given\n",
        "    patient and substance from an allergies JSON file.\n",
        "\n",
        "    Returns the reaction associated with the specified allergy for the given patient and substance.\n",
        "\n",
        "\n",
        "  \"\"\"\n",
        "\n",
        "    # Get the allergy list for the specified JSON file\n",
        "  allergy_data = allergy_list(ALLERGY_FILE)\n",
        "    # print(allergy_data)\n",
        "\n",
        "    # Initialize the reaction to None\n",
        "  reaction = None\n",
        "\n",
        "    # Iterate through the allergy data to find the specified patient and substance\n",
        "  for entry in allergy_data:\n",
        "        entry_patient, entry_substance, entry_reaction = entry\n",
        "\n",
        "        # Check if the current entry matches both the patient and substance\n",
        "        if entry_patient == patient and entry_substance == substance:\n",
        "            reaction = entry_reaction  # Update the reaction if a match is found\n",
        "\n",
        "    # Return the final reaction (can be None if no match is found)\n",
        "  return reaction\n"
      ]
    },
    {
      "cell_type": "code",
      "execution_count": 106,
      "metadata": {
        "id": "1CHEShOJEDmh",
        "outputId": "a8f3e753-239a-41a3-d15b-5c0d99d7000a",
        "colab": {
          "base_uri": "https://localhost:8080/",
          "height": 35
        }
      },
      "outputs": [
        {
          "output_type": "execute_result",
          "data": {
            "text/plain": [
              "'Hives'"
            ],
            "application/vnd.google.colaboratory.intrinsic+json": {
              "type": "string"
            }
          },
          "metadata": {},
          "execution_count": 106
        }
      ],
      "source": [
        "allergy_reaction(json_file, 'Jason Argonaut', 'PENICILLIN G')"
      ]
    },
    {
      "cell_type": "code",
      "execution_count": 108,
      "metadata": {
        "nbgrader": {
          "grade": true,
          "grade_id": "q3-tests",
          "locked": true,
          "points": 5,
          "schema_version": 1,
          "solution": false
        },
        "id": "Mc3-5XI9EDmh"
      },
      "outputs": [],
      "source": [
        "assert allergy_reaction(ALLERGIES_FILE, 'Jason Argonaut', 'PENICILLIN G') == 'Hives'\n",
        "assert allergy_reaction(ALLERGIES_FILE, 'Jason Argonaut', 'SHELLFISH-DERIVED PRODUCTS') == 'Itching'\n",
        "assert allergy_reaction(ALLERGIES_FILE, 'Jason Argonaut', 'STRAWBERRY') == 'Anaphylaxis'\n",
        "assert allergy_reaction(ALLERGIES_FILE, 'Jason Argonaut', 'PENICILLIN') == None\n",
        "assert allergy_reaction(ALLERGIES_FILE, 'Paul Boal', 'PENICILLIN G') == 'Bruising'"
      ]
    },
    {
      "cell_type": "markdown",
      "metadata": {
        "id": "2M5XLoEXEDmh"
      },
      "source": [
        "---\n",
        "\n",
        "## Check your work above\n",
        "\n",
        "If you didn't get them all correct, take a few minutes to think through those that aren't correct.\n",
        "\n",
        "\n",
        "## Submitting Your Work\n",
        "\n",
        "In order to submit your work, you'll need to save this notebook file back to GitHub.  To do that in Google Colab:\n",
        "1. File -> Save a Copy in GitHub\n",
        "2. Make sure your HDS5210 repository is selected\n",
        "3. Make sure the file name includes the week number like this: `week06/week06_assignment_2.ipynb`\n",
        "4. Add a commit message that means something\n",
        "\n",
        "**Be sure week names are lowercase and use a two digit week number!!**\n",
        "\n",
        "**Be sure you use the same file name provided by the instructor!!**\n",
        "\n"
      ]
    }
  ],
  "metadata": {
    "celltoolbar": "Create Assignment",
    "kernelspec": {
      "display_name": "Python 3",
      "language": "python",
      "name": "python3"
    },
    "language_info": {
      "codemirror_mode": {
        "name": "ipython",
        "version": 3
      },
      "file_extension": ".py",
      "mimetype": "text/x-python",
      "name": "python",
      "nbconvert_exporter": "python",
      "pygments_lexer": "ipython3",
      "version": "3.9.16"
    },
    "colab": {
      "provenance": []
    }
  },
  "nbformat": 4,
  "nbformat_minor": 0
}